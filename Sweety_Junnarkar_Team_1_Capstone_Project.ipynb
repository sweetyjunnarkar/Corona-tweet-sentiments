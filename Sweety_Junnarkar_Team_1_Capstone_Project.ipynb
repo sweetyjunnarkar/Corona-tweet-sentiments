{
  "nbformat": 4,
  "nbformat_minor": 0,
  "metadata": {
    "kernelspec": {
      "display_name": "Python 3",
      "language": "python",
      "name": "python3"
    },
    "language_info": {
      "codemirror_mode": {
        "name": "ipython",
        "version": 3
      },
      "file_extension": ".py",
      "mimetype": "text/x-python",
      "name": "python",
      "nbconvert_exporter": "python",
      "pygments_lexer": "ipython3",
      "version": "3.6.6"
    },
    "colab": {
      "name": "Sweety Junnarkar - Team 1 - Capstone Project.ipynb",
      "provenance": [],
      "include_colab_link": true
    }
  },
  "cells": [
    {
      "cell_type": "markdown",
      "metadata": {
        "id": "view-in-github",
        "colab_type": "text"
      },
      "source": [
        "<a href=\"https://colab.research.google.com/github/sweetyjunnarkar/Corona-tweet-sentiments/blob/main/Sweety_Junnarkar_Team_1_Capstone_Project.ipynb\" target=\"_parent\"><img src=\"https://colab.research.google.com/assets/colab-badge.svg\" alt=\"Open In Colab\"/></a>"
      ]
    },
    {
      "cell_type": "markdown",
      "metadata": {
        "id": "tOGC-qoyhJeX"
      },
      "source": [
        "# <b><u> Project Title : Sentiment Analysis : Predicting sentiment of COVID-19 tweets</u></b>"
      ]
    },
    {
      "cell_type": "markdown",
      "metadata": {
        "id": "Y06xIdG26kRF"
      },
      "source": [
        "## <b> Problem Description </b>\n",
        "\n",
        "### This challenge asks you to build a classification model to predict the sentiment of COVID-19 tweets.The tweets have been pulled from Twitter and manual tagging has been done then.\n",
        "\n",
        "### The names and usernames have been given codes to avoid any privacy concerns.\n",
        "\n",
        "### You are given the following information:\n",
        "1. Location\n",
        "2. Tweet At\n",
        "3. Original Tweet\n",
        "4. Label"
      ]
    },
    {
      "cell_type": "code",
      "metadata": {
        "colab": {
          "base_uri": "https://localhost:8080/"
        },
        "id": "uxzqtDRqSOem",
        "outputId": "d80537e7-70ae-4259-ab55-a93280aec237"
      },
      "source": [
        "from google.colab import drive\n",
        "drive.mount('/content/drive')"
      ],
      "execution_count": null,
      "outputs": [
        {
          "output_type": "stream",
          "text": [
            "Mounted at /content/drive\n"
          ],
          "name": "stdout"
        }
      ]
    },
    {
      "cell_type": "code",
      "metadata": {
        "id": "PcoDGVQwR_Qm"
      },
      "source": [
        "import pandas as pd\r\n",
        "import numpy as np\r\n",
        "import matplotlib.pyplot as plt\r\n",
        "import seaborn as sns"
      ],
      "execution_count": null,
      "outputs": []
    },
    {
      "cell_type": "code",
      "metadata": {
        "id": "BElD1YRkoL0e"
      },
      "source": [
        "working_file=\"/content/drive/MyDrive/AlmaBetter/Cohort Aravali/Module 4/Week 1/Coronavirus Tweets.csv\""
      ],
      "execution_count": null,
      "outputs": []
    },
    {
      "cell_type": "code",
      "metadata": {
        "id": "dByMsuzT8Tnw"
      },
      "source": [
        "df = pd.read_csv(working_file,encoding = 'latin')"
      ],
      "execution_count": null,
      "outputs": []
    },
    {
      "cell_type": "code",
      "metadata": {
        "colab": {
          "base_uri": "https://localhost:8080/",
          "height": 402
        },
        "id": "xlvToF-zR-d9",
        "outputId": "5db5d23a-1fa0-4d3b-faa0-e5251c10b1c7"
      },
      "source": [
        "df"
      ],
      "execution_count": null,
      "outputs": [
        {
          "output_type": "execute_result",
          "data": {
            "text/html": [
              "<div>\n",
              "<style scoped>\n",
              "    .dataframe tbody tr th:only-of-type {\n",
              "        vertical-align: middle;\n",
              "    }\n",
              "\n",
              "    .dataframe tbody tr th {\n",
              "        vertical-align: top;\n",
              "    }\n",
              "\n",
              "    .dataframe thead th {\n",
              "        text-align: right;\n",
              "    }\n",
              "</style>\n",
              "<table border=\"1\" class=\"dataframe\">\n",
              "  <thead>\n",
              "    <tr style=\"text-align: right;\">\n",
              "      <th></th>\n",
              "      <th>UserName</th>\n",
              "      <th>ScreenName</th>\n",
              "      <th>Location</th>\n",
              "      <th>TweetAt</th>\n",
              "      <th>OriginalTweet</th>\n",
              "      <th>Sentiment</th>\n",
              "    </tr>\n",
              "  </thead>\n",
              "  <tbody>\n",
              "    <tr>\n",
              "      <th>0</th>\n",
              "      <td>3799</td>\n",
              "      <td>48751</td>\n",
              "      <td>London</td>\n",
              "      <td>16-03-2020</td>\n",
              "      <td>@MeNyrbie @Phil_Gahan @Chrisitv https://t.co/i...</td>\n",
              "      <td>Neutral</td>\n",
              "    </tr>\n",
              "    <tr>\n",
              "      <th>1</th>\n",
              "      <td>3800</td>\n",
              "      <td>48752</td>\n",
              "      <td>UK</td>\n",
              "      <td>16-03-2020</td>\n",
              "      <td>advice Talk to your neighbours family to excha...</td>\n",
              "      <td>Positive</td>\n",
              "    </tr>\n",
              "    <tr>\n",
              "      <th>2</th>\n",
              "      <td>3801</td>\n",
              "      <td>48753</td>\n",
              "      <td>Vagabonds</td>\n",
              "      <td>16-03-2020</td>\n",
              "      <td>Coronavirus Australia: Woolworths to give elde...</td>\n",
              "      <td>Positive</td>\n",
              "    </tr>\n",
              "    <tr>\n",
              "      <th>3</th>\n",
              "      <td>3802</td>\n",
              "      <td>48754</td>\n",
              "      <td>NaN</td>\n",
              "      <td>16-03-2020</td>\n",
              "      <td>My food stock is not the only one which is emp...</td>\n",
              "      <td>Positive</td>\n",
              "    </tr>\n",
              "    <tr>\n",
              "      <th>4</th>\n",
              "      <td>3803</td>\n",
              "      <td>48755</td>\n",
              "      <td>NaN</td>\n",
              "      <td>16-03-2020</td>\n",
              "      <td>Me, ready to go at supermarket during the #COV...</td>\n",
              "      <td>Extremely Negative</td>\n",
              "    </tr>\n",
              "    <tr>\n",
              "      <th>...</th>\n",
              "      <td>...</td>\n",
              "      <td>...</td>\n",
              "      <td>...</td>\n",
              "      <td>...</td>\n",
              "      <td>...</td>\n",
              "      <td>...</td>\n",
              "    </tr>\n",
              "    <tr>\n",
              "      <th>41152</th>\n",
              "      <td>44951</td>\n",
              "      <td>89903</td>\n",
              "      <td>Wellington City, New Zealand</td>\n",
              "      <td>14-04-2020</td>\n",
              "      <td>Airline pilots offering to stock supermarket s...</td>\n",
              "      <td>Neutral</td>\n",
              "    </tr>\n",
              "    <tr>\n",
              "      <th>41153</th>\n",
              "      <td>44952</td>\n",
              "      <td>89904</td>\n",
              "      <td>NaN</td>\n",
              "      <td>14-04-2020</td>\n",
              "      <td>Response to complaint not provided citing COVI...</td>\n",
              "      <td>Extremely Negative</td>\n",
              "    </tr>\n",
              "    <tr>\n",
              "      <th>41154</th>\n",
              "      <td>44953</td>\n",
              "      <td>89905</td>\n",
              "      <td>NaN</td>\n",
              "      <td>14-04-2020</td>\n",
              "      <td>You know itÂs getting tough when @KameronWild...</td>\n",
              "      <td>Positive</td>\n",
              "    </tr>\n",
              "    <tr>\n",
              "      <th>41155</th>\n",
              "      <td>44954</td>\n",
              "      <td>89906</td>\n",
              "      <td>NaN</td>\n",
              "      <td>14-04-2020</td>\n",
              "      <td>Is it wrong that the smell of hand sanitizer i...</td>\n",
              "      <td>Neutral</td>\n",
              "    </tr>\n",
              "    <tr>\n",
              "      <th>41156</th>\n",
              "      <td>44955</td>\n",
              "      <td>89907</td>\n",
              "      <td>i love you so much || he/him</td>\n",
              "      <td>14-04-2020</td>\n",
              "      <td>@TartiiCat Well new/used Rift S are going for ...</td>\n",
              "      <td>Negative</td>\n",
              "    </tr>\n",
              "  </tbody>\n",
              "</table>\n",
              "<p>41157 rows × 6 columns</p>\n",
              "</div>"
            ],
            "text/plain": [
              "       UserName  ...           Sentiment\n",
              "0          3799  ...             Neutral\n",
              "1          3800  ...            Positive\n",
              "2          3801  ...            Positive\n",
              "3          3802  ...            Positive\n",
              "4          3803  ...  Extremely Negative\n",
              "...         ...  ...                 ...\n",
              "41152     44951  ...             Neutral\n",
              "41153     44952  ...  Extremely Negative\n",
              "41154     44953  ...            Positive\n",
              "41155     44954  ...             Neutral\n",
              "41156     44955  ...            Negative\n",
              "\n",
              "[41157 rows x 6 columns]"
            ]
          },
          "metadata": {
            "tags": []
          },
          "execution_count": 18
        }
      ]
    },
    {
      "cell_type": "code",
      "metadata": {
        "colab": {
          "base_uri": "https://localhost:8080/"
        },
        "id": "AWwIFMS6TPLP",
        "outputId": "662b578d-5233-4e00-ffe1-5fd6418ddc8d"
      },
      "source": [
        "df.isnull().sum()"
      ],
      "execution_count": null,
      "outputs": [
        {
          "output_type": "execute_result",
          "data": {
            "text/plain": [
              "UserName            0\n",
              "ScreenName          0\n",
              "Location         8590\n",
              "TweetAt             0\n",
              "OriginalTweet       0\n",
              "Sentiment           0\n",
              "dtype: int64"
            ]
          },
          "metadata": {
            "tags": []
          },
          "execution_count": 19
        }
      ]
    },
    {
      "cell_type": "code",
      "metadata": {
        "colab": {
          "base_uri": "https://localhost:8080/"
        },
        "id": "LNm61iIvpAfE",
        "outputId": "44cfe82e-7d87-479d-8b51-e3ba152b3896"
      },
      "source": [
        "df.info()"
      ],
      "execution_count": null,
      "outputs": [
        {
          "output_type": "stream",
          "text": [
            "<class 'pandas.core.frame.DataFrame'>\n",
            "RangeIndex: 41157 entries, 0 to 41156\n",
            "Data columns (total 6 columns):\n",
            " #   Column         Non-Null Count  Dtype \n",
            "---  ------         --------------  ----- \n",
            " 0   UserName       41157 non-null  int64 \n",
            " 1   ScreenName     41157 non-null  int64 \n",
            " 2   Location       32567 non-null  object\n",
            " 3   TweetAt        41157 non-null  object\n",
            " 4   OriginalTweet  41157 non-null  object\n",
            " 5   Sentiment      41157 non-null  object\n",
            "dtypes: int64(2), object(4)\n",
            "memory usage: 1.9+ MB\n"
          ],
          "name": "stdout"
        }
      ]
    },
    {
      "cell_type": "markdown",
      "metadata": {
        "id": "Nv7u2bq6pGll"
      },
      "source": [
        "So we can see the null values from the location feature"
      ]
    },
    {
      "cell_type": "code",
      "metadata": {
        "colab": {
          "base_uri": "https://localhost:8080/",
          "height": 350
        },
        "id": "SnoinXnlpRS9",
        "outputId": "7e58f6b7-da49-4bb7-b884-4f3284c83eb8"
      },
      "source": [
        "sns.countplot(df[\"Sentiment\"])"
      ],
      "execution_count": null,
      "outputs": [
        {
          "output_type": "stream",
          "text": [
            "/usr/local/lib/python3.6/dist-packages/seaborn/_decorators.py:43: FutureWarning: Pass the following variable as a keyword arg: x. From version 0.12, the only valid positional argument will be `data`, and passing other arguments without an explicit keyword will result in an error or misinterpretation.\n",
            "  FutureWarning\n"
          ],
          "name": "stderr"
        },
        {
          "output_type": "execute_result",
          "data": {
            "text/plain": [
              "<matplotlib.axes._subplots.AxesSubplot at 0x7f1e285adfd0>"
            ]
          },
          "metadata": {
            "tags": []
          },
          "execution_count": 22
        },
        {
          "output_type": "display_data",
          "data": {
            "image/png": "[encoded data removed]",
            "text/plain": [
              "<Figure size 432x288 with 1 Axes>"
            ]
          },
          "metadata": {
            "tags": [],
            "needs_background": "light"
          }
        }
      ]
    },
    {
      "cell_type": "code",
      "metadata": {
        "colab": {
          "base_uri": "https://localhost:8080/",
          "height": 52
        },
        "id": "oVghjDs4pDtv",
        "outputId": "8f81b522-5e17-4321-e2eb-dd1161fa86d4"
      },
      "source": [
        "df[df['Sentiment']==\"Positive\"].loc[3,\"OriginalTweet\"]"
      ],
      "execution_count": null,
      "outputs": [
        {
          "output_type": "execute_result",
          "data": {
            "application/vnd.google.colaboratory.intrinsic+json": {
              "type": "string"
            },
            "text/plain": [
              "\"My food stock is not the only one which is empty...\\r\\r\\n\\r\\r\\nPLEASE, don't panic, THERE WILL BE ENOUGH FOOD FOR EVERYONE if you do not take more than you need. \\r\\r\\nStay calm, stay safe.\\r\\r\\n\\r\\r\\n#COVID19france #COVID_19 #COVID19 #coronavirus #confinement #Confinementotal #ConfinementGeneral https://t.co/zrlG0Z520j\""
            ]
          },
          "metadata": {
            "tags": []
          },
          "execution_count": 25
        }
      ]
    },
    {
      "cell_type": "markdown",
      "metadata": {
        "id": "Y2ypUV2-qbaC"
      },
      "source": [
        "We can see that the above tweet is positive because it is the positive thing happened due to corona. Or in this tweet we are seeing lot of positivity."
      ]
    },
    {
      "cell_type": "code",
      "metadata": {
        "colab": {
          "base_uri": "https://localhost:8080/",
          "height": 52
        },
        "id": "8Npx1VDGpm9u",
        "outputId": "349736a4-4ccc-4df3-d860-c5b19ce77f17"
      },
      "source": [
        "df[df['Sentiment']==\"Extremely Positive\"].loc[11,\"OriginalTweet\"]"
      ],
      "execution_count": null,
      "outputs": [
        {
          "output_type": "execute_result",
          "data": {
            "application/vnd.google.colaboratory.intrinsic+json": {
              "type": "string"
            },
            "text/plain": [
              "'Due to the Covid-19 situation, we have increased demand for all food products. \\r\\r\\n\\r\\r\\nThe wait time may be longer for all online orders, particularly beef share and freezer packs. \\r\\r\\n\\r\\r\\nWe thank you for your patience during this time.'"
            ]
          },
          "metadata": {
            "tags": []
          },
          "execution_count": 31
        }
      ]
    },
    {
      "cell_type": "code",
      "metadata": {
        "colab": {
          "base_uri": "https://localhost:8080/",
          "height": 35
        },
        "id": "jVM4GdJyrAih",
        "outputId": "0c2aac22-cd32-4428-8f3c-234c704749b1"
      },
      "source": [
        "df[df['Sentiment']==\"Extremely Positive\"].loc[41142,\"OriginalTweet\"]"
      ],
      "execution_count": null,
      "outputs": [
        {
          "output_type": "execute_result",
          "data": {
            "application/vnd.google.colaboratory.intrinsic+json": {
              "type": "string"
            },
            "text/plain": [
              "'@MajangChien @MTNSSD @MTNSSD is worst than COVID-19. All businesses have reduced their prices but our MTN is looting us instead of giving us free data.'"
            ]
          },
          "metadata": {
            "tags": []
          },
          "execution_count": 33
        }
      ]
    },
    {
      "cell_type": "code",
      "metadata": {
        "colab": {
          "base_uri": "https://localhost:8080/",
          "height": 52
        },
        "id": "smvE9iq0rhAJ",
        "outputId": "96e77424-b337-4a6d-b8c8-086210090671"
      },
      "source": [
        "df[df['Sentiment']==\"Neutral\"].loc[10,\"OriginalTweet\"]"
      ],
      "execution_count": null,
      "outputs": [
        {
          "output_type": "execute_result",
          "data": {
            "application/vnd.google.colaboratory.intrinsic+json": {
              "type": "string"
            },
            "text/plain": [
              "\"All month there hasn't been crowding in the supermarkets or restaurants, however reducing all the hours and closing the malls means everyone is now using the same entrance and dependent on a single supermarket. #manila #lockdown #covid2019 #Philippines https://t.co/HxWs9LAnF9\""
            ]
          },
          "metadata": {
            "tags": []
          },
          "execution_count": 36
        }
      ]
    },
    {
      "cell_type": "code",
      "metadata": {
        "colab": {
          "base_uri": "https://localhost:8080/",
          "height": 52
        },
        "id": "8kbMyT5FrxEF",
        "outputId": "68ded3cf-8282-49cf-b9ae-4bc27030eb7e"
      },
      "source": [
        "df[df['Sentiment']==\"Neutral\"].loc[16,\"OriginalTweet\"]"
      ],
      "execution_count": null,
      "outputs": [
        {
          "output_type": "execute_result",
          "data": {
            "application/vnd.google.colaboratory.intrinsic+json": {
              "type": "string"
            },
            "text/plain": [
              "'????? ????? ????? ????? ??\\r\\r\\n?????? ????? ??????? ????????? ?\\r\\r\\n#????_???? ????? ???? ?????? ? #????????? ?????? ?? 13 ???? ?? ?? ???? ?????? ?? ??\\r\\r\\n#???_???????? ????? ??? ???? ? https://t.co/51bL8P6vZh'"
            ]
          },
          "metadata": {
            "tags": []
          },
          "execution_count": 39
        }
      ]
    },
    {
      "cell_type": "markdown",
      "metadata": {
        "id": "QuGG1JPLsMa2"
      },
      "source": [
        "We can definitely relate why it is neutral...!!!"
      ]
    },
    {
      "cell_type": "code",
      "metadata": {
        "colab": {
          "base_uri": "https://localhost:8080/",
          "height": 52
        },
        "id": "sqoZ3bH9sCNh",
        "outputId": "1cf0e5a2-0a4a-4c77-bc72-c874f36f580f"
      },
      "source": [
        "df[df['Sentiment']==\"Extremely Negative\"].loc[27,\"OriginalTweet\"]"
      ],
      "execution_count": null,
      "outputs": [
        {
          "output_type": "execute_result",
          "data": {
            "application/vnd.google.colaboratory.intrinsic+json": {
              "type": "string"
            },
            "text/plain": [
              "'This morning I tested positive for Covid 19. I feel ok, I have no symptoms so far but have been isolated since I found out about my possible exposure to the virus.  Stay home people and be pragmatic. I will keep you updated on how IÂ\\x92m doing ???? No panic. https://t.co/Lg7HVMZglZ'"
            ]
          },
          "metadata": {
            "tags": []
          },
          "execution_count": 42
        }
      ]
    },
    {
      "cell_type": "code",
      "metadata": {
        "colab": {
          "base_uri": "https://localhost:8080/",
          "height": 52
        },
        "id": "twofqH9esZlP",
        "outputId": "5063c691-b256-4fd7-8a84-4257e5a70675"
      },
      "source": [
        "df[df['Sentiment']==\"Extremely Negative\"].loc[41130,\"OriginalTweet\"]"
      ],
      "execution_count": null,
      "outputs": [
        {
          "output_type": "execute_result",
          "data": {
            "application/vnd.google.colaboratory.intrinsic+json": {
              "type": "string"
            },
            "text/plain": [
              "'Squeo works in the meat department of a Kroger supermarket in Michigan. He knows of several grocery workers whoÂ\\x92ve tested positive for COVID-19 and one in his area who died. He worries that the behavior of some shoppers is putting people in unnecessary danger.'"
            ]
          },
          "metadata": {
            "tags": []
          },
          "execution_count": 44
        }
      ]
    },
    {
      "cell_type": "code",
      "metadata": {
        "colab": {
          "base_uri": "https://localhost:8080/",
          "height": 52
        },
        "id": "ulmI_4pSsmt2",
        "outputId": "e8d1293b-ba6e-43d8-8ad3-9fd403c75fa8"
      },
      "source": [
        "df[df['Sentiment']==\"Negative\"].loc[9,\"OriginalTweet\"]"
      ],
      "execution_count": null,
      "outputs": [
        {
          "output_type": "execute_result",
          "data": {
            "application/vnd.google.colaboratory.intrinsic+json": {
              "type": "string"
            },
            "text/plain": [
              "\"For corona prevention,we should stop to buy things with the cash and should use online payment methods because corona can spread through the notes. Also we should prefer online shopping from our home. It's time to fight against COVID 19?. #govindia #IndiaFightsCorona\""
            ]
          },
          "metadata": {
            "tags": []
          },
          "execution_count": 46
        }
      ]
    },
    {
      "cell_type": "markdown",
      "metadata": {
        "id": "8T0l-GU5tEfo"
      },
      "source": [
        "From above tweets we can relate to what is positive,extremely positive,extremely negative and negative.\r\n",
        "\r\n",
        "Lets analyze other features:"
      ]
    },
    {
      "cell_type": "code",
      "metadata": {
        "colab": {
          "base_uri": "https://localhost:8080/"
        },
        "id": "oBLc7eyOs-aU",
        "outputId": "a4e84118-8d15-460c-9b7a-d7fec90ece08"
      },
      "source": [
        "df.TweetAt.value_counts()"
      ],
      "execution_count": null,
      "outputs": [
        {
          "output_type": "execute_result",
          "data": {
            "text/plain": [
              "20-03-2020    3448\n",
              "19-03-2020    3215\n",
              "25-03-2020    2979\n",
              "18-03-2020    2742\n",
              "21-03-2020    2653\n",
              "22-03-2020    2114\n",
              "23-03-2020    2062\n",
              "17-03-2020    1977\n",
              "08-04-2020    1881\n",
              "07-04-2020    1843\n",
              "06-04-2020    1742\n",
              "24-03-2020    1480\n",
              "09-04-2020    1471\n",
              "13-04-2020    1428\n",
              "26-03-2020    1277\n",
              "05-04-2020    1131\n",
              "10-04-2020    1005\n",
              "02-04-2020     954\n",
              "11-04-2020     909\n",
              "03-04-2020     810\n",
              "12-04-2020     803\n",
              "04-04-2020     767\n",
              "16-03-2020     656\n",
              "01-04-2020     630\n",
              "27-03-2020     345\n",
              "31-03-2020     316\n",
              "14-04-2020     284\n",
              "29-03-2020     125\n",
              "30-03-2020      87\n",
              "28-03-2020      23\n",
              "Name: TweetAt, dtype: int64"
            ]
          },
          "metadata": {
            "tags": []
          },
          "execution_count": 47
        }
      ]
    },
    {
      "cell_type": "markdown",
      "metadata": {
        "id": "sXP9TQk1tgid"
      },
      "source": [
        "We can see that most of the tweets are from the month march and april where corona just started spreding."
      ]
    },
    {
      "cell_type": "code",
      "metadata": {
        "colab": {
          "base_uri": "https://localhost:8080/",
          "height": 728
        },
        "id": "eUkD4Hkrtekd",
        "outputId": "0c74bf1e-fcc7-4486-af51-7bbfbae25b3c"
      },
      "source": [
        "df[df['TweetAt']=='28-03-2020']"
      ],
      "execution_count": null,
      "outputs": [
        {
          "output_type": "execute_result",
          "data": {
            "text/html": [
              "<div>\n",
              "<style scoped>\n",
              "    .dataframe tbody tr th:only-of-type {\n",
              "        vertical-align: middle;\n",
              "    }\n",
              "\n",
              "    .dataframe tbody tr th {\n",
              "        vertical-align: top;\n",
              "    }\n",
              "\n",
              "    .dataframe thead th {\n",
              "        text-align: right;\n",
              "    }\n",
              "</style>\n",
              "<table border=\"1\" class=\"dataframe\">\n",
              "  <thead>\n",
              "    <tr style=\"text-align: right;\">\n",
              "      <th></th>\n",
              "      <th>UserName</th>\n",
              "      <th>ScreenName</th>\n",
              "      <th>Location</th>\n",
              "      <th>TweetAt</th>\n",
              "      <th>OriginalTweet</th>\n",
              "      <th>Sentiment</th>\n",
              "    </tr>\n",
              "  </thead>\n",
              "  <tbody>\n",
              "    <tr>\n",
              "      <th>24948</th>\n",
              "      <td>28747</td>\n",
              "      <td>73699</td>\n",
              "      <td>Sydney</td>\n",
              "      <td>28-03-2020</td>\n",
              "      <td>.@Woolworths is set to expand its community sh...</td>\n",
              "      <td>Positive</td>\n",
              "    </tr>\n",
              "    <tr>\n",
              "      <th>24949</th>\n",
              "      <td>28748</td>\n",
              "      <td>73700</td>\n",
              "      <td>NaN</td>\n",
              "      <td>28-03-2020</td>\n",
              "      <td>@JackPosobiec Test kits with low accuracy but ...</td>\n",
              "      <td>Negative</td>\n",
              "    </tr>\n",
              "    <tr>\n",
              "      <th>24950</th>\n",
              "      <td>28749</td>\n",
              "      <td>73701</td>\n",
              "      <td>NaN</td>\n",
              "      <td>28-03-2020</td>\n",
              "      <td>NSW, Australia.  COVID-19 positive Chinese wom...</td>\n",
              "      <td>Extremely Positive</td>\n",
              "    </tr>\n",
              "    <tr>\n",
              "      <th>24951</th>\n",
              "      <td>28750</td>\n",
              "      <td>73702</td>\n",
              "      <td>New Delhi, India</td>\n",
              "      <td>28-03-2020</td>\n",
              "      <td>1 A friend is helping with relief across India...</td>\n",
              "      <td>Extremely Positive</td>\n",
              "    </tr>\n",
              "    <tr>\n",
              "      <th>24952</th>\n",
              "      <td>28751</td>\n",
              "      <td>73703</td>\n",
              "      <td>New Hampshire, USA</td>\n",
              "      <td>28-03-2020</td>\n",
              "      <td>My story about how grocery stores and their wo...</td>\n",
              "      <td>Negative</td>\n",
              "    </tr>\n",
              "    <tr>\n",
              "      <th>24953</th>\n",
              "      <td>28752</td>\n",
              "      <td>73704</td>\n",
              "      <td>A Hesse in MUC and CGN &amp; DUS</td>\n",
              "      <td>28-03-2020</td>\n",
              "      <td>Protected shopping with my wife during the #Co...</td>\n",
              "      <td>Extremely Positive</td>\n",
              "    </tr>\n",
              "    <tr>\n",
              "      <th>24954</th>\n",
              "      <td>28753</td>\n",
              "      <td>73705</td>\n",
              "      <td>Chesterfield, VA</td>\n",
              "      <td>28-03-2020</td>\n",
              "      <td>#Coronavirus: Italy becoming impatient with lo...</td>\n",
              "      <td>Extremely Negative</td>\n",
              "    </tr>\n",
              "    <tr>\n",
              "      <th>24955</th>\n",
              "      <td>28754</td>\n",
              "      <td>73706</td>\n",
              "      <td>RÃ©publique DÃ©mocratique Du Congo</td>\n",
              "      <td>28-03-2020</td>\n",
              "      <td>@mundaditob @marosephine @senatrdc @VoilaNight...</td>\n",
              "      <td>Extremely Positive</td>\n",
              "    </tr>\n",
              "    <tr>\n",
              "      <th>24956</th>\n",
              "      <td>28755</td>\n",
              "      <td>73707</td>\n",
              "      <td>Toronto</td>\n",
              "      <td>28-03-2020</td>\n",
              "      <td>So you want to limit trips to the grocery stor...</td>\n",
              "      <td>Positive</td>\n",
              "    </tr>\n",
              "    <tr>\n",
              "      <th>24957</th>\n",
              "      <td>28756</td>\n",
              "      <td>73708</td>\n",
              "      <td>Victoria, Australia</td>\n",
              "      <td>28-03-2020</td>\n",
              "      <td>When all this is over, IÂll never again take ...</td>\n",
              "      <td>Extremely Positive</td>\n",
              "    </tr>\n",
              "    <tr>\n",
              "      <th>24958</th>\n",
              "      <td>28757</td>\n",
              "      <td>73709</td>\n",
              "      <td>Windsor, Ontario</td>\n",
              "      <td>28-03-2020</td>\n",
              "      <td>A day in new reality at Cavalier - some staff ...</td>\n",
              "      <td>Negative</td>\n",
              "    </tr>\n",
              "    <tr>\n",
              "      <th>24959</th>\n",
              "      <td>28758</td>\n",
              "      <td>73710</td>\n",
              "      <td>New York, NY</td>\n",
              "      <td>28-03-2020</td>\n",
              "      <td>A round-up of the week's top 5 #retail stories...</td>\n",
              "      <td>Positive</td>\n",
              "    </tr>\n",
              "    <tr>\n",
              "      <th>24960</th>\n",
              "      <td>28759</td>\n",
              "      <td>73711</td>\n",
              "      <td>NaN</td>\n",
              "      <td>28-03-2020</td>\n",
              "      <td>Supermarket #purchaselimits mean people have t...</td>\n",
              "      <td>Negative</td>\n",
              "    </tr>\n",
              "    <tr>\n",
              "      <th>24961</th>\n",
              "      <td>28760</td>\n",
              "      <td>73712</td>\n",
              "      <td>Ontario</td>\n",
              "      <td>28-03-2020</td>\n",
              "      <td>WeÂre coming down hard on price gougers. If y...</td>\n",
              "      <td>Positive</td>\n",
              "    </tr>\n",
              "    <tr>\n",
              "      <th>24962</th>\n",
              "      <td>28761</td>\n",
              "      <td>73713</td>\n",
              "      <td>Rome, Lazio</td>\n",
              "      <td>28-03-2020</td>\n",
              "      <td>Setting a new record: two hours of queuing for...</td>\n",
              "      <td>Neutral</td>\n",
              "    </tr>\n",
              "    <tr>\n",
              "      <th>24963</th>\n",
              "      <td>28762</td>\n",
              "      <td>73714</td>\n",
              "      <td>NaN</td>\n",
              "      <td>28-03-2020</td>\n",
              "      <td>@HarvardChanSPH You can also refer to @necsi g...</td>\n",
              "      <td>Extremely Positive</td>\n",
              "    </tr>\n",
              "    <tr>\n",
              "      <th>24964</th>\n",
              "      <td>28763</td>\n",
              "      <td>73715</td>\n",
              "      <td>Marlboro, NJ</td>\n",
              "      <td>28-03-2020</td>\n",
              "      <td>Consumer Reports: Tips for staying healthy at ...</td>\n",
              "      <td>Positive</td>\n",
              "    </tr>\n",
              "    <tr>\n",
              "      <th>24965</th>\n",
              "      <td>28764</td>\n",
              "      <td>73716</td>\n",
              "      <td>PHILADELPHIA  PA</td>\n",
              "      <td>28-03-2020</td>\n",
              "      <td>I went to this Latin supermarket this morning ...</td>\n",
              "      <td>Extremely Positive</td>\n",
              "    </tr>\n",
              "    <tr>\n",
              "      <th>24966</th>\n",
              "      <td>28765</td>\n",
              "      <td>73717</td>\n",
              "      <td>Hyderabad, Telangana</td>\n",
              "      <td>28-03-2020</td>\n",
              "      <td>As #TelanganaFightsCorona in these testing tim...</td>\n",
              "      <td>Positive</td>\n",
              "    </tr>\n",
              "    <tr>\n",
              "      <th>24967</th>\n",
              "      <td>28766</td>\n",
              "      <td>73718</td>\n",
              "      <td>Wolverhampton, West Midlands</td>\n",
              "      <td>28-03-2020</td>\n",
              "      <td>Protect yourself and others by washing your ha...</td>\n",
              "      <td>Extremely Positive</td>\n",
              "    </tr>\n",
              "    <tr>\n",
              "      <th>24968</th>\n",
              "      <td>28767</td>\n",
              "      <td>73719</td>\n",
              "      <td>Glasgow, Scotland</td>\n",
              "      <td>28-03-2020</td>\n",
              "      <td>Combined my two great passions: camp Gilbert a...</td>\n",
              "      <td>Extremely Positive</td>\n",
              "    </tr>\n",
              "    <tr>\n",
              "      <th>24969</th>\n",
              "      <td>28768</td>\n",
              "      <td>73720</td>\n",
              "      <td>Colorado</td>\n",
              "      <td>28-03-2020</td>\n",
              "      <td>Many of us expect to be spending more time at ...</td>\n",
              "      <td>Extremely Positive</td>\n",
              "    </tr>\n",
              "    <tr>\n",
              "      <th>24970</th>\n",
              "      <td>28769</td>\n",
              "      <td>73721</td>\n",
              "      <td>Abuja</td>\n",
              "      <td>28-03-2020</td>\n",
              "      <td>My own little way of saying this \"too shall pa...</td>\n",
              "      <td>Extremely Positive</td>\n",
              "    </tr>\n",
              "  </tbody>\n",
              "</table>\n",
              "</div>"
            ],
            "text/plain": [
              "       UserName  ...           Sentiment\n",
              "24948     28747  ...            Positive\n",
              "24949     28748  ...            Negative\n",
              "24950     28749  ...  Extremely Positive\n",
              "24951     28750  ...  Extremely Positive\n",
              "24952     28751  ...            Negative\n",
              "24953     28752  ...  Extremely Positive\n",
              "24954     28753  ...  Extremely Negative\n",
              "24955     28754  ...  Extremely Positive\n",
              "24956     28755  ...            Positive\n",
              "24957     28756  ...  Extremely Positive\n",
              "24958     28757  ...            Negative\n",
              "24959     28758  ...            Positive\n",
              "24960     28759  ...            Negative\n",
              "24961     28760  ...            Positive\n",
              "24962     28761  ...             Neutral\n",
              "24963     28762  ...  Extremely Positive\n",
              "24964     28763  ...            Positive\n",
              "24965     28764  ...  Extremely Positive\n",
              "24966     28765  ...            Positive\n",
              "24967     28766  ...  Extremely Positive\n",
              "24968     28767  ...  Extremely Positive\n",
              "24969     28768  ...  Extremely Positive\n",
              "24970     28769  ...  Extremely Positive\n",
              "\n",
              "[23 rows x 6 columns]"
            ]
          },
          "metadata": {
            "tags": []
          },
          "execution_count": 48
        }
      ]
    },
    {
      "cell_type": "code",
      "metadata": {
        "colab": {
          "base_uri": "https://localhost:8080/",
          "height": 402
        },
        "id": "RB-YBLr-tzNA",
        "outputId": "e93ef57e-408c-4fad-8020-15e904eee59d"
      },
      "source": [
        "df[df['TweetAt']=='30-03-2020']"
      ],
      "execution_count": null,
      "outputs": [
        {
          "output_type": "execute_result",
          "data": {
            "text/html": [
              "<div>\n",
              "<style scoped>\n",
              "    .dataframe tbody tr th:only-of-type {\n",
              "        vertical-align: middle;\n",
              "    }\n",
              "\n",
              "    .dataframe tbody tr th {\n",
              "        vertical-align: top;\n",
              "    }\n",
              "\n",
              "    .dataframe thead th {\n",
              "        text-align: right;\n",
              "    }\n",
              "</style>\n",
              "<table border=\"1\" class=\"dataframe\">\n",
              "  <thead>\n",
              "    <tr style=\"text-align: right;\">\n",
              "      <th></th>\n",
              "      <th>UserName</th>\n",
              "      <th>ScreenName</th>\n",
              "      <th>Location</th>\n",
              "      <th>TweetAt</th>\n",
              "      <th>OriginalTweet</th>\n",
              "      <th>Sentiment</th>\n",
              "    </tr>\n",
              "  </thead>\n",
              "  <tbody>\n",
              "    <tr>\n",
              "      <th>25096</th>\n",
              "      <td>28895</td>\n",
              "      <td>73847</td>\n",
              "      <td>England, United Kingdom</td>\n",
              "      <td>30-03-2020</td>\n",
              "      <td>\"Frontline staff work upto 14hrs\"\\r\\r\\n\\r\\r\\n\"...</td>\n",
              "      <td>Positive</td>\n",
              "    </tr>\n",
              "    <tr>\n",
              "      <th>25097</th>\n",
              "      <td>28896</td>\n",
              "      <td>73848</td>\n",
              "      <td>NaN</td>\n",
              "      <td>30-03-2020</td>\n",
              "      <td>No matter what you talk about, the conversatio...</td>\n",
              "      <td>Extremely Negative</td>\n",
              "    </tr>\n",
              "    <tr>\n",
              "      <th>25098</th>\n",
              "      <td>28897</td>\n",
              "      <td>73849</td>\n",
              "      <td>Adelaide, South Australia</td>\n",
              "      <td>30-03-2020</td>\n",
              "      <td>The @UN has been forced to issue a Âbattle pl...</td>\n",
              "      <td>Extremely Negative</td>\n",
              "    </tr>\n",
              "    <tr>\n",
              "      <th>25099</th>\n",
              "      <td>28898</td>\n",
              "      <td>73850</td>\n",
              "      <td>India</td>\n",
              "      <td>30-03-2020</td>\n",
              "      <td>#Covid2019 | Demand for existing residential s...</td>\n",
              "      <td>Negative</td>\n",
              "    </tr>\n",
              "    <tr>\n",
              "      <th>25100</th>\n",
              "      <td>28899</td>\n",
              "      <td>73851</td>\n",
              "      <td>NaN</td>\n",
              "      <td>30-03-2020</td>\n",
              "      <td>The supermarket is full of people It seems tha...</td>\n",
              "      <td>Positive</td>\n",
              "    </tr>\n",
              "    <tr>\n",
              "      <th>...</th>\n",
              "      <td>...</td>\n",
              "      <td>...</td>\n",
              "      <td>...</td>\n",
              "      <td>...</td>\n",
              "      <td>...</td>\n",
              "      <td>...</td>\n",
              "    </tr>\n",
              "    <tr>\n",
              "      <th>25178</th>\n",
              "      <td>28977</td>\n",
              "      <td>73929</td>\n",
              "      <td>NaN</td>\n",
              "      <td>30-03-2020</td>\n",
              "      <td>@MOPHQatar @MOI_QatarEn @ILQLive Limit the amo...</td>\n",
              "      <td>Extremely Positive</td>\n",
              "    </tr>\n",
              "    <tr>\n",
              "      <th>25179</th>\n",
              "      <td>28978</td>\n",
              "      <td>73930</td>\n",
              "      <td>Earth</td>\n",
              "      <td>30-03-2020</td>\n",
              "      <td>@realDonaldTrump Why do you keep saying \"if yo...</td>\n",
              "      <td>Negative</td>\n",
              "    </tr>\n",
              "    <tr>\n",
              "      <th>25180</th>\n",
              "      <td>28979</td>\n",
              "      <td>73931</td>\n",
              "      <td>Jakarta</td>\n",
              "      <td>30-03-2020</td>\n",
              "      <td>You know shit is real when the supermarket is ...</td>\n",
              "      <td>Negative</td>\n",
              "    </tr>\n",
              "    <tr>\n",
              "      <th>25181</th>\n",
              "      <td>28980</td>\n",
              "      <td>73932</td>\n",
              "      <td>NaN</td>\n",
              "      <td>30-03-2020</td>\n",
              "      <td>At the best of times I canÂt stand anyone nea...</td>\n",
              "      <td>Extremely Positive</td>\n",
              "    </tr>\n",
              "    <tr>\n",
              "      <th>25182</th>\n",
              "      <td>28981</td>\n",
              "      <td>73933</td>\n",
              "      <td>NaN</td>\n",
              "      <td>30-03-2020</td>\n",
              "      <td>Anybody else watching Bird Box now and noticin...</td>\n",
              "      <td>Neutral</td>\n",
              "    </tr>\n",
              "  </tbody>\n",
              "</table>\n",
              "<p>87 rows × 6 columns</p>\n",
              "</div>"
            ],
            "text/plain": [
              "       UserName  ...           Sentiment\n",
              "25096     28895  ...            Positive\n",
              "25097     28896  ...  Extremely Negative\n",
              "25098     28897  ...  Extremely Negative\n",
              "25099     28898  ...            Negative\n",
              "25100     28899  ...            Positive\n",
              "...         ...  ...                 ...\n",
              "25178     28977  ...  Extremely Positive\n",
              "25179     28978  ...            Negative\n",
              "25180     28979  ...            Negative\n",
              "25181     28980  ...  Extremely Positive\n",
              "25182     28981  ...             Neutral\n",
              "\n",
              "[87 rows x 6 columns]"
            ]
          },
          "metadata": {
            "tags": []
          },
          "execution_count": 49
        }
      ]
    },
    {
      "cell_type": "code",
      "metadata": {
        "colab": {
          "base_uri": "https://localhost:8080/"
        },
        "id": "iHEriUs7t5fc",
        "outputId": "66d89484-ba3c-4764-c4ab-9eb0d95595f8"
      },
      "source": [
        "df['Location'].value_counts()"
      ],
      "execution_count": null,
      "outputs": [
        {
          "output_type": "execute_result",
          "data": {
            "text/plain": [
              "London                    540\n",
              "United States             528\n",
              "London, England           520\n",
              "New York, NY              395\n",
              "Washington, DC            373\n",
              "                         ... \n",
              "Gurgaon,Haryana,India       1\n",
              "Greenfield, IN              1\n",
              "Zoline                      1\n",
              "Wrexham, Wales              1\n",
              "Tampa Bay, Florida, US      1\n",
              "Name: Location, Length: 12220, dtype: int64"
            ]
          },
          "metadata": {
            "tags": []
          },
          "execution_count": 50
        }
      ]
    },
    {
      "cell_type": "code",
      "metadata": {
        "colab": {
          "base_uri": "https://localhost:8080/",
          "height": 350
        },
        "id": "e0cnT3Rat9J5",
        "outputId": "4d3dda07-bf2b-4388-c375-cbe388990ac1"
      },
      "source": [
        "sns.countplot(df['TweetAt'])"
      ],
      "execution_count": null,
      "outputs": [
        {
          "output_type": "stream",
          "text": [
            "/usr/local/lib/python3.6/dist-packages/seaborn/_decorators.py:43: FutureWarning: Pass the following variable as a keyword arg: x. From version 0.12, the only valid positional argument will be `data`, and passing other arguments without an explicit keyword will result in an error or misinterpretation.\n",
            "  FutureWarning\n"
          ],
          "name": "stderr"
        },
        {
          "output_type": "execute_result",
          "data": {
            "text/plain": [
              "<matplotlib.axes._subplots.AxesSubplot at 0x7f1e284704a8>"
            ]
          },
          "metadata": {
            "tags": []
          },
          "execution_count": 52
        },
        {
          "output_type": "display_data",
          "data": {
            "image/png": "[encoded data removed]",
            "text/plain": [
              "<Figure size 432x288 with 1 Axes>"
            ]
          },
          "metadata": {
            "tags": [],
            "needs_background": "light"
          }
        }
      ]
    },
    {
      "cell_type": "code",
      "metadata": {
        "id": "Sq3Qoj5wuBgJ"
      },
      "source": [
        ""
      ],
      "execution_count": null,
      "outputs": []
    }
  ]
}