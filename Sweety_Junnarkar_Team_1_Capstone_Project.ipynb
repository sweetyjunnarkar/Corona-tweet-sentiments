{
  "nbformat": 4,
  "nbformat_minor": 0,
  "metadata": {
    "kernelspec": {
      "display_name": "Python 3",
      "language": "python",
      "name": "python3"
    },
    "language_info": {
      "codemirror_mode": {
        "name": "ipython",
        "version": 3
      },
      "file_extension": ".py",
      "mimetype": "text/x-python",
      "name": "python",
      "nbconvert_exporter": "python",
      "pygments_lexer": "ipython3",
      "version": "3.6.6"
    },
    "colab": {
      "name": "Sweety Junnarkar - Team 1 - Capstone Project.ipynb",
      "provenance": [],
      "collapsed_sections": [],
      "include_colab_link": true
    }
  },
  "cells": [
    {
      "cell_type": "markdown",
      "metadata": {
        "id": "view-in-github",
        "colab_type": "text"
      },
      "source": [
        "<a href=\"https://colab.research.google.com/github/sweetyjunnarkar/Corona-tweet-sentiments/blob/main/Sweety_Junnarkar_Team_1_Capstone_Project.ipynb\" target=\"_parent\"><img src=\"https://colab.research.google.com/assets/colab-badge.svg\" alt=\"Open In Colab\"/></a>"
      ]
    },
    {
      "cell_type": "markdown",
      "metadata": {
        "id": "tOGC-qoyhJeX"
      },
      "source": [
        "# <b><u> Project Title : Sentiment Analysis : Predicting sentiment of COVID-19 tweets</u></b>"
      ]
    },
    {
      "cell_type": "markdown",
      "metadata": {
        "id": "Y06xIdG26kRF"
      },
      "source": [
        "## <b> Problem Description </b>\n",
        "\n",
        "### This challenge asks you to build a classification model to predict the sentiment of COVID-19 tweets.The tweets have been pulled from Twitter and manual tagging has been done then.\n",
        "\n",
        "### The names and usernames have been given codes to avoid any privacy concerns.\n",
        "\n",
        "### You are given the following information:\n",
        "1. Location\n",
        "2. Tweet At\n",
        "3. Original Tweet\n",
        "4. Label"
      ]
    },
    {
      "cell_type": "code",
      "metadata": {
        "colab": {
          "base_uri": "https://localhost:8080/"
        },
        "id": "uxzqtDRqSOem",
        "outputId": "f78375ec-daf6-4ac4-a7cc-1ac6e9f5d47d"
      },
      "source": [
        "from google.colab import drive\n",
        "drive.mount('/content/drive')"
      ],
      "execution_count": null,
      "outputs": [
        {
          "output_type": "stream",
          "text": [
            "Mounted at /content/drive\n"
          ],
          "name": "stdout"
        }
      ]
    },
    {
      "cell_type": "code",
      "metadata": {
        "id": "PcoDGVQwR_Qm"
      },
      "source": [
        "import pandas as pd\r\n",
        "import numpy as np\r\n",
        "import matplotlib.pyplot as plt\r\n",
        "import seaborn as sns"
      ],
      "execution_count": null,
      "outputs": []
    },
    {
      "cell_type": "code",
      "metadata": {
        "id": "BElD1YRkoL0e"
      },
      "source": [
        "working_file=\"/content/drive/MyDrive/AlmaBetter/Cohort Aravali/Module 4/Week 1/Coronavirus Tweets.csv\""
      ],
      "execution_count": null,
      "outputs": []
    },
    {
      "cell_type": "code",
      "metadata": {
        "id": "dByMsuzT8Tnw"
      },
      "source": [
        "df = pd.read_csv(working_file,encoding = 'latin')"
      ],
      "execution_count": null,
      "outputs": []
    },
    {
      "cell_type": "code",
      "metadata": {
        "colab": {
          "base_uri": "https://localhost:8080/",
          "height": 402
        },
        "id": "xlvToF-zR-d9",
        "outputId": "9bbb1596-968d-468d-9ba7-79202251a4fa"
      },
      "source": [
        "df"
      ],
      "execution_count": null,
      "outputs": [
        {
          "output_type": "execute_result",
          "data": {
            "text/html": [
              "<div>\n",
              "<style scoped>\n",
              "    .dataframe tbody tr th:only-of-type {\n",
              "        vertical-align: middle;\n",
              "    }\n",
              "\n",
              "    .dataframe tbody tr th {\n",
              "        vertical-align: top;\n",
              "    }\n",
              "\n",
              "    .dataframe thead th {\n",
              "        text-align: right;\n",
              "    }\n",
              "</style>\n",
              "<table border=\"1\" class=\"dataframe\">\n",
              "  <thead>\n",
              "    <tr style=\"text-align: right;\">\n",
              "      <th></th>\n",
              "      <th>UserName</th>\n",
              "      <th>ScreenName</th>\n",
              "      <th>Location</th>\n",
              "      <th>TweetAt</th>\n",
              "      <th>OriginalTweet</th>\n",
              "      <th>Sentiment</th>\n",
              "    </tr>\n",
              "  </thead>\n",
              "  <tbody>\n",
              "    <tr>\n",
              "      <th>0</th>\n",
              "      <td>3799</td>\n",
              "      <td>48751</td>\n",
              "      <td>London</td>\n",
              "      <td>16-03-2020</td>\n",
              "      <td>@MeNyrbie @Phil_Gahan @Chrisitv https://t.co/i...</td>\n",
              "      <td>Neutral</td>\n",
              "    </tr>\n",
              "    <tr>\n",
              "      <th>1</th>\n",
              "      <td>3800</td>\n",
              "      <td>48752</td>\n",
              "      <td>UK</td>\n",
              "      <td>16-03-2020</td>\n",
              "      <td>advice Talk to your neighbours family to excha...</td>\n",
              "      <td>Positive</td>\n",
              "    </tr>\n",
              "    <tr>\n",
              "      <th>2</th>\n",
              "      <td>3801</td>\n",
              "      <td>48753</td>\n",
              "      <td>Vagabonds</td>\n",
              "      <td>16-03-2020</td>\n",
              "      <td>Coronavirus Australia: Woolworths to give elde...</td>\n",
              "      <td>Positive</td>\n",
              "    </tr>\n",
              "    <tr>\n",
              "      <th>3</th>\n",
              "      <td>3802</td>\n",
              "      <td>48754</td>\n",
              "      <td>NaN</td>\n",
              "      <td>16-03-2020</td>\n",
              "      <td>My food stock is not the only one which is emp...</td>\n",
              "      <td>Positive</td>\n",
              "    </tr>\n",
              "    <tr>\n",
              "      <th>4</th>\n",
              "      <td>3803</td>\n",
              "      <td>48755</td>\n",
              "      <td>NaN</td>\n",
              "      <td>16-03-2020</td>\n",
              "      <td>Me, ready to go at supermarket during the #COV...</td>\n",
              "      <td>Extremely Negative</td>\n",
              "    </tr>\n",
              "    <tr>\n",
              "      <th>...</th>\n",
              "      <td>...</td>\n",
              "      <td>...</td>\n",
              "      <td>...</td>\n",
              "      <td>...</td>\n",
              "      <td>...</td>\n",
              "      <td>...</td>\n",
              "    </tr>\n",
              "    <tr>\n",
              "      <th>41152</th>\n",
              "      <td>44951</td>\n",
              "      <td>89903</td>\n",
              "      <td>Wellington City, New Zealand</td>\n",
              "      <td>14-04-2020</td>\n",
              "      <td>Airline pilots offering to stock supermarket s...</td>\n",
              "      <td>Neutral</td>\n",
              "    </tr>\n",
              "    <tr>\n",
              "      <th>41153</th>\n",
              "      <td>44952</td>\n",
              "      <td>89904</td>\n",
              "      <td>NaN</td>\n",
              "      <td>14-04-2020</td>\n",
              "      <td>Response to complaint not provided citing COVI...</td>\n",
              "      <td>Extremely Negative</td>\n",
              "    </tr>\n",
              "    <tr>\n",
              "      <th>41154</th>\n",
              "      <td>44953</td>\n",
              "      <td>89905</td>\n",
              "      <td>NaN</td>\n",
              "      <td>14-04-2020</td>\n",
              "      <td>You know itÂs getting tough when @KameronWild...</td>\n",
              "      <td>Positive</td>\n",
              "    </tr>\n",
              "    <tr>\n",
              "      <th>41155</th>\n",
              "      <td>44954</td>\n",
              "      <td>89906</td>\n",
              "      <td>NaN</td>\n",
              "      <td>14-04-2020</td>\n",
              "      <td>Is it wrong that the smell of hand sanitizer i...</td>\n",
              "      <td>Neutral</td>\n",
              "    </tr>\n",
              "    <tr>\n",
              "      <th>41156</th>\n",
              "      <td>44955</td>\n",
              "      <td>89907</td>\n",
              "      <td>i love you so much || he/him</td>\n",
              "      <td>14-04-2020</td>\n",
              "      <td>@TartiiCat Well new/used Rift S are going for ...</td>\n",
              "      <td>Negative</td>\n",
              "    </tr>\n",
              "  </tbody>\n",
              "</table>\n",
              "<p>41157 rows × 6 columns</p>\n",
              "</div>"
            ],
            "text/plain": [
              "       UserName  ...           Sentiment\n",
              "0          3799  ...             Neutral\n",
              "1          3800  ...            Positive\n",
              "2          3801  ...            Positive\n",
              "3          3802  ...            Positive\n",
              "4          3803  ...  Extremely Negative\n",
              "...         ...  ...                 ...\n",
              "41152     44951  ...             Neutral\n",
              "41153     44952  ...  Extremely Negative\n",
              "41154     44953  ...            Positive\n",
              "41155     44954  ...             Neutral\n",
              "41156     44955  ...            Negative\n",
              "\n",
              "[41157 rows x 6 columns]"
            ]
          },
          "metadata": {
            "tags": []
          },
          "execution_count": 6
        }
      ]
    },
    {
      "cell_type": "code",
      "metadata": {
        "colab": {
          "base_uri": "https://localhost:8080/"
        },
        "id": "AWwIFMS6TPLP",
        "outputId": "92cb9598-78bc-4993-ce7f-91b68c843004"
      },
      "source": [
        "df.isnull().sum()"
      ],
      "execution_count": null,
      "outputs": [
        {
          "output_type": "execute_result",
          "data": {
            "text/plain": [
              "UserName            0\n",
              "ScreenName          0\n",
              "Location         8590\n",
              "TweetAt             0\n",
              "OriginalTweet       0\n",
              "Sentiment           0\n",
              "dtype: int64"
            ]
          },
          "metadata": {
            "tags": []
          },
          "execution_count": 7
        }
      ]
    },
    {
      "cell_type": "code",
      "metadata": {
        "colab": {
          "base_uri": "https://localhost:8080/"
        },
        "id": "LNm61iIvpAfE",
        "outputId": "b5d0b1cf-ba7c-493c-cf28-1e147d3c7cb5"
      },
      "source": [
        "df.info()"
      ],
      "execution_count": null,
      "outputs": [
        {
          "output_type": "stream",
          "text": [
            "<class 'pandas.core.frame.DataFrame'>\n",
            "RangeIndex: 41157 entries, 0 to 41156\n",
            "Data columns (total 6 columns):\n",
            " #   Column         Non-Null Count  Dtype \n",
            "---  ------         --------------  ----- \n",
            " 0   UserName       41157 non-null  int64 \n",
            " 1   ScreenName     41157 non-null  int64 \n",
            " 2   Location       32567 non-null  object\n",
            " 3   TweetAt        41157 non-null  object\n",
            " 4   OriginalTweet  41157 non-null  object\n",
            " 5   Sentiment      41157 non-null  object\n",
            "dtypes: int64(2), object(4)\n",
            "memory usage: 1.9+ MB\n"
          ],
          "name": "stdout"
        }
      ]
    },
    {
      "cell_type": "markdown",
      "metadata": {
        "id": "Nv7u2bq6pGll"
      },
      "source": [
        "So we can see the null values from the location feature"
      ]
    },
    {
      "cell_type": "code",
      "metadata": {
        "colab": {
          "base_uri": "https://localhost:8080/",
          "height": 350
        },
        "id": "SnoinXnlpRS9",
        "outputId": "32a1fac2-8b69-4c1c-8e36-e1486a73f8a0"
      },
      "source": [
        "sns.countplot(df[\"Sentiment\"])"
      ],
      "execution_count": null,
      "outputs": [
        {
          "output_type": "stream",
          "text": [
            "/usr/local/lib/python3.6/dist-packages/seaborn/_decorators.py:43: FutureWarning: Pass the following variable as a keyword arg: x. From version 0.12, the only valid positional argument will be `data`, and passing other arguments without an explicit keyword will result in an error or misinterpretation.\n",
            "  FutureWarning\n"
          ],
          "name": "stderr"
        },
        {
          "output_type": "execute_result",
          "data": {
            "text/plain": [
              "<matplotlib.axes._subplots.AxesSubplot at 0x7fee2c852518>"
            ]
          },
          "metadata": {
            "tags": []
          },
          "execution_count": 9
        },
        {
          "output_type": "display_data",
          "data": {
            "image/png": "[encoded data removed]",
            "text/plain": [
              "<Figure size 432x288 with 1 Axes>"
            ]
          },
          "metadata": {
            "tags": [],
            "needs_background": "light"
          }
        }
      ]
    },
    {
      "cell_type": "code",
      "metadata": {
        "colab": {
          "base_uri": "https://localhost:8080/",
          "height": 52
        },
        "id": "oVghjDs4pDtv",
        "outputId": "ba65212f-91c9-4dfc-d488-6595ccb01035"
      },
      "source": [
        "df[df['Sentiment']==\"Positive\"].loc[3,\"OriginalTweet\"]"
      ],
      "execution_count": null,
      "outputs": [
        {
          "output_type": "execute_result",
          "data": {
            "application/vnd.google.colaboratory.intrinsic+json": {
              "type": "string"
            },
            "text/plain": [
              "\"My food stock is not the only one which is empty...\\r\\r\\n\\r\\r\\nPLEASE, don't panic, THERE WILL BE ENOUGH FOOD FOR EVERYONE if you do not take more than you need. \\r\\r\\nStay calm, stay safe.\\r\\r\\n\\r\\r\\n#COVID19france #COVID_19 #COVID19 #coronavirus #confinement #Confinementotal #ConfinementGeneral https://t.co/zrlG0Z520j\""
            ]
          },
          "metadata": {
            "tags": []
          },
          "execution_count": 10
        }
      ]
    },
    {
      "cell_type": "markdown",
      "metadata": {
        "id": "Y2ypUV2-qbaC"
      },
      "source": [
        "We can see that the above tweet is positive because it is the positive thing happened due to corona. Or in this tweet we are seeing lot of positivity."
      ]
    },
    {
      "cell_type": "code",
      "metadata": {
        "colab": {
          "base_uri": "https://localhost:8080/",
          "height": 52
        },
        "id": "8Npx1VDGpm9u",
        "outputId": "842cfe00-978d-49af-bf95-364e11de5e65"
      },
      "source": [
        "df[df['Sentiment']==\"Extremely Positive\"].loc[11,\"OriginalTweet\"]"
      ],
      "execution_count": null,
      "outputs": [
        {
          "output_type": "execute_result",
          "data": {
            "application/vnd.google.colaboratory.intrinsic+json": {
              "type": "string"
            },
            "text/plain": [
              "'Due to the Covid-19 situation, we have increased demand for all food products. \\r\\r\\n\\r\\r\\nThe wait time may be longer for all online orders, particularly beef share and freezer packs. \\r\\r\\n\\r\\r\\nWe thank you for your patience during this time.'"
            ]
          },
          "metadata": {
            "tags": []
          },
          "execution_count": 11
        }
      ]
    },
    {
      "cell_type": "code",
      "metadata": {
        "colab": {
          "base_uri": "https://localhost:8080/",
          "height": 35
        },
        "id": "jVM4GdJyrAih",
        "outputId": "932cbc82-101b-4900-9397-4283c662d101"
      },
      "source": [
        "df[df['Sentiment']==\"Extremely Positive\"].loc[41142,\"OriginalTweet\"]"
      ],
      "execution_count": null,
      "outputs": [
        {
          "output_type": "execute_result",
          "data": {
            "application/vnd.google.colaboratory.intrinsic+json": {
              "type": "string"
            },
            "text/plain": [
              "'@MajangChien @MTNSSD @MTNSSD is worst than COVID-19. All businesses have reduced their prices but our MTN is looting us instead of giving us free data.'"
            ]
          },
          "metadata": {
            "tags": []
          },
          "execution_count": 12
        }
      ]
    },
    {
      "cell_type": "code",
      "metadata": {
        "colab": {
          "base_uri": "https://localhost:8080/",
          "height": 52
        },
        "id": "smvE9iq0rhAJ",
        "outputId": "19258a93-3a48-4705-b897-f59ddb0336c6"
      },
      "source": [
        "df[df['Sentiment']==\"Neutral\"].loc[10,\"OriginalTweet\"]"
      ],
      "execution_count": null,
      "outputs": [
        {
          "output_type": "execute_result",
          "data": {
            "application/vnd.google.colaboratory.intrinsic+json": {
              "type": "string"
            },
            "text/plain": [
              "\"All month there hasn't been crowding in the supermarkets or restaurants, however reducing all the hours and closing the malls means everyone is now using the same entrance and dependent on a single supermarket. #manila #lockdown #covid2019 #Philippines https://t.co/HxWs9LAnF9\""
            ]
          },
          "metadata": {
            "tags": []
          },
          "execution_count": 13
        }
      ]
    },
    {
      "cell_type": "code",
      "metadata": {
        "colab": {
          "base_uri": "https://localhost:8080/",
          "height": 52
        },
        "id": "8kbMyT5FrxEF",
        "outputId": "7661cf9e-c73a-4907-9eb1-a85dad6bad6e"
      },
      "source": [
        "df[df['Sentiment']==\"Neutral\"].loc[16,\"OriginalTweet\"]"
      ],
      "execution_count": null,
      "outputs": [
        {
          "output_type": "execute_result",
          "data": {
            "application/vnd.google.colaboratory.intrinsic+json": {
              "type": "string"
            },
            "text/plain": [
              "'????? ????? ????? ????? ??\\r\\r\\n?????? ????? ??????? ????????? ?\\r\\r\\n#????_???? ????? ???? ?????? ? #????????? ?????? ?? 13 ???? ?? ?? ???? ?????? ?? ??\\r\\r\\n#???_???????? ????? ??? ???? ? https://t.co/51bL8P6vZh'"
            ]
          },
          "metadata": {
            "tags": []
          },
          "execution_count": 14
        }
      ]
    },
    {
      "cell_type": "markdown",
      "metadata": {
        "id": "QuGG1JPLsMa2"
      },
      "source": [
        "We can definitely relate why it is neutral...!!!"
      ]
    },
    {
      "cell_type": "code",
      "metadata": {
        "colab": {
          "base_uri": "https://localhost:8080/",
          "height": 52
        },
        "id": "sqoZ3bH9sCNh",
        "outputId": "eb7c3f44-8600-46bd-f98d-ebcd90532847"
      },
      "source": [
        "df[df['Sentiment']==\"Extremely Negative\"].loc[27,\"OriginalTweet\"]"
      ],
      "execution_count": null,
      "outputs": [
        {
          "output_type": "execute_result",
          "data": {
            "application/vnd.google.colaboratory.intrinsic+json": {
              "type": "string"
            },
            "text/plain": [
              "'This morning I tested positive for Covid 19. I feel ok, I have no symptoms so far but have been isolated since I found out about my possible exposure to the virus.  Stay home people and be pragmatic. I will keep you updated on how IÂ\\x92m doing ???? No panic. https://t.co/Lg7HVMZglZ'"
            ]
          },
          "metadata": {
            "tags": []
          },
          "execution_count": 15
        }
      ]
    },
    {
      "cell_type": "code",
      "metadata": {
        "colab": {
          "base_uri": "https://localhost:8080/",
          "height": 52
        },
        "id": "twofqH9esZlP",
        "outputId": "308ed55d-e5aa-40e8-93aa-20be492541db"
      },
      "source": [
        "df[df['Sentiment']==\"Extremely Negative\"].loc[41130,\"OriginalTweet\"]"
      ],
      "execution_count": null,
      "outputs": [
        {
          "output_type": "execute_result",
          "data": {
            "application/vnd.google.colaboratory.intrinsic+json": {
              "type": "string"
            },
            "text/plain": [
              "'Squeo works in the meat department of a Kroger supermarket in Michigan. He knows of several grocery workers whoÂ\\x92ve tested positive for COVID-19 and one in his area who died. He worries that the behavior of some shoppers is putting people in unnecessary danger.'"
            ]
          },
          "metadata": {
            "tags": []
          },
          "execution_count": 16
        }
      ]
    },
    {
      "cell_type": "code",
      "metadata": {
        "colab": {
          "base_uri": "https://localhost:8080/",
          "height": 52
        },
        "id": "ulmI_4pSsmt2",
        "outputId": "9f940d1a-bc4c-4fd9-bd7a-3c0f77de3666"
      },
      "source": [
        "df[df['Sentiment']==\"Negative\"].loc[9,\"OriginalTweet\"]"
      ],
      "execution_count": null,
      "outputs": [
        {
          "output_type": "execute_result",
          "data": {
            "application/vnd.google.colaboratory.intrinsic+json": {
              "type": "string"
            },
            "text/plain": [
              "\"For corona prevention,we should stop to buy things with the cash and should use online payment methods because corona can spread through the notes. Also we should prefer online shopping from our home. It's time to fight against COVID 19?. #govindia #IndiaFightsCorona\""
            ]
          },
          "metadata": {
            "tags": []
          },
          "execution_count": 17
        }
      ]
    },
    {
      "cell_type": "markdown",
      "metadata": {
        "id": "8T0l-GU5tEfo"
      },
      "source": [
        "From above tweets we can relate to what is positive,extremely positive,extremely negative and negative.\r\n",
        "\r\n",
        "Lets analyze other features:"
      ]
    },
    {
      "cell_type": "code",
      "metadata": {
        "colab": {
          "base_uri": "https://localhost:8080/"
        },
        "id": "oBLc7eyOs-aU",
        "outputId": "e5db8ec1-fb66-478b-f0d7-163d3ed6c929"
      },
      "source": [
        "df.TweetAt.value_counts()"
      ],
      "execution_count": null,
      "outputs": [
        {
          "output_type": "execute_result",
          "data": {
            "text/plain": [
              "20-03-2020    3448\n",
              "19-03-2020    3215\n",
              "25-03-2020    2979\n",
              "18-03-2020    2742\n",
              "21-03-2020    2653\n",
              "22-03-2020    2114\n",
              "23-03-2020    2062\n",
              "17-03-2020    1977\n",
              "08-04-2020    1881\n",
              "07-04-2020    1843\n",
              "06-04-2020    1742\n",
              "24-03-2020    1480\n",
              "09-04-2020    1471\n",
              "13-04-2020    1428\n",
              "26-03-2020    1277\n",
              "05-04-2020    1131\n",
              "10-04-2020    1005\n",
              "02-04-2020     954\n",
              "11-04-2020     909\n",
              "03-04-2020     810\n",
              "12-04-2020     803\n",
              "04-04-2020     767\n",
              "16-03-2020     656\n",
              "01-04-2020     630\n",
              "27-03-2020     345\n",
              "31-03-2020     316\n",
              "14-04-2020     284\n",
              "29-03-2020     125\n",
              "30-03-2020      87\n",
              "28-03-2020      23\n",
              "Name: TweetAt, dtype: int64"
            ]
          },
          "metadata": {
            "tags": []
          },
          "execution_count": 18
        }
      ]
    },
    {
      "cell_type": "markdown",
      "metadata": {
        "id": "sXP9TQk1tgid"
      },
      "source": [
        "We can see that most of the tweets are from the month march and april where corona just started spreding."
      ]
    },
    {
      "cell_type": "code",
      "metadata": {
        "colab": {
          "base_uri": "https://localhost:8080/",
          "height": 728
        },
        "id": "eUkD4Hkrtekd",
        "outputId": "944cb8cb-4f86-4973-faaa-6e5d86ae8326"
      },
      "source": [
        "df[df['TweetAt']=='28-03-2020']"
      ],
      "execution_count": null,
      "outputs": [
        {
          "output_type": "execute_result",
          "data": {
            "text/html": [
              "<div>\n",
              "<style scoped>\n",
              "    .dataframe tbody tr th:only-of-type {\n",
              "        vertical-align: middle;\n",
              "    }\n",
              "\n",
              "    .dataframe tbody tr th {\n",
              "        vertical-align: top;\n",
              "    }\n",
              "\n",
              "    .dataframe thead th {\n",
              "        text-align: right;\n",
              "    }\n",
              "</style>\n",
              "<table border=\"1\" class=\"dataframe\">\n",
              "  <thead>\n",
              "    <tr style=\"text-align: right;\">\n",
              "      <th></th>\n",
              "      <th>UserName</th>\n",
              "      <th>ScreenName</th>\n",
              "      <th>Location</th>\n",
              "      <th>TweetAt</th>\n",
              "      <th>OriginalTweet</th>\n",
              "      <th>Sentiment</th>\n",
              "    </tr>\n",
              "  </thead>\n",
              "  <tbody>\n",
              "    <tr>\n",
              "      <th>24948</th>\n",
              "      <td>28747</td>\n",
              "      <td>73699</td>\n",
              "      <td>Sydney</td>\n",
              "      <td>28-03-2020</td>\n",
              "      <td>.@Woolworths is set to expand its community sh...</td>\n",
              "      <td>Positive</td>\n",
              "    </tr>\n",
              "    <tr>\n",
              "      <th>24949</th>\n",
              "      <td>28748</td>\n",
              "      <td>73700</td>\n",
              "      <td>NaN</td>\n",
              "      <td>28-03-2020</td>\n",
              "      <td>@JackPosobiec Test kits with low accuracy but ...</td>\n",
              "      <td>Negative</td>\n",
              "    </tr>\n",
              "    <tr>\n",
              "      <th>24950</th>\n",
              "      <td>28749</td>\n",
              "      <td>73701</td>\n",
              "      <td>NaN</td>\n",
              "      <td>28-03-2020</td>\n",
              "      <td>NSW, Australia.  COVID-19 positive Chinese wom...</td>\n",
              "      <td>Extremely Positive</td>\n",
              "    </tr>\n",
              "    <tr>\n",
              "      <th>24951</th>\n",
              "      <td>28750</td>\n",
              "      <td>73702</td>\n",
              "      <td>New Delhi, India</td>\n",
              "      <td>28-03-2020</td>\n",
              "      <td>1 A friend is helping with relief across India...</td>\n",
              "      <td>Extremely Positive</td>\n",
              "    </tr>\n",
              "    <tr>\n",
              "      <th>24952</th>\n",
              "      <td>28751</td>\n",
              "      <td>73703</td>\n",
              "      <td>New Hampshire, USA</td>\n",
              "      <td>28-03-2020</td>\n",
              "      <td>My story about how grocery stores and their wo...</td>\n",
              "      <td>Negative</td>\n",
              "    </tr>\n",
              "    <tr>\n",
              "      <th>24953</th>\n",
              "      <td>28752</td>\n",
              "      <td>73704</td>\n",
              "      <td>A Hesse in MUC and CGN &amp; DUS</td>\n",
              "      <td>28-03-2020</td>\n",
              "      <td>Protected shopping with my wife during the #Co...</td>\n",
              "      <td>Extremely Positive</td>\n",
              "    </tr>\n",
              "    <tr>\n",
              "      <th>24954</th>\n",
              "      <td>28753</td>\n",
              "      <td>73705</td>\n",
              "      <td>Chesterfield, VA</td>\n",
              "      <td>28-03-2020</td>\n",
              "      <td>#Coronavirus: Italy becoming impatient with lo...</td>\n",
              "      <td>Extremely Negative</td>\n",
              "    </tr>\n",
              "    <tr>\n",
              "      <th>24955</th>\n",
              "      <td>28754</td>\n",
              "      <td>73706</td>\n",
              "      <td>RÃ©publique DÃ©mocratique Du Congo</td>\n",
              "      <td>28-03-2020</td>\n",
              "      <td>@mundaditob @marosephine @senatrdc @VoilaNight...</td>\n",
              "      <td>Extremely Positive</td>\n",
              "    </tr>\n",
              "    <tr>\n",
              "      <th>24956</th>\n",
              "      <td>28755</td>\n",
              "      <td>73707</td>\n",
              "      <td>Toronto</td>\n",
              "      <td>28-03-2020</td>\n",
              "      <td>So you want to limit trips to the grocery stor...</td>\n",
              "      <td>Positive</td>\n",
              "    </tr>\n",
              "    <tr>\n",
              "      <th>24957</th>\n",
              "      <td>28756</td>\n",
              "      <td>73708</td>\n",
              "      <td>Victoria, Australia</td>\n",
              "      <td>28-03-2020</td>\n",
              "      <td>When all this is over, IÂll never again take ...</td>\n",
              "      <td>Extremely Positive</td>\n",
              "    </tr>\n",
              "    <tr>\n",
              "      <th>24958</th>\n",
              "      <td>28757</td>\n",
              "      <td>73709</td>\n",
              "      <td>Windsor, Ontario</td>\n",
              "      <td>28-03-2020</td>\n",
              "      <td>A day in new reality at Cavalier - some staff ...</td>\n",
              "      <td>Negative</td>\n",
              "    </tr>\n",
              "    <tr>\n",
              "      <th>24959</th>\n",
              "      <td>28758</td>\n",
              "      <td>73710</td>\n",
              "      <td>New York, NY</td>\n",
              "      <td>28-03-2020</td>\n",
              "      <td>A round-up of the week's top 5 #retail stories...</td>\n",
              "      <td>Positive</td>\n",
              "    </tr>\n",
              "    <tr>\n",
              "      <th>24960</th>\n",
              "      <td>28759</td>\n",
              "      <td>73711</td>\n",
              "      <td>NaN</td>\n",
              "      <td>28-03-2020</td>\n",
              "      <td>Supermarket #purchaselimits mean people have t...</td>\n",
              "      <td>Negative</td>\n",
              "    </tr>\n",
              "    <tr>\n",
              "      <th>24961</th>\n",
              "      <td>28760</td>\n",
              "      <td>73712</td>\n",
              "      <td>Ontario</td>\n",
              "      <td>28-03-2020</td>\n",
              "      <td>WeÂre coming down hard on price gougers. If y...</td>\n",
              "      <td>Positive</td>\n",
              "    </tr>\n",
              "    <tr>\n",
              "      <th>24962</th>\n",
              "      <td>28761</td>\n",
              "      <td>73713</td>\n",
              "      <td>Rome, Lazio</td>\n",
              "      <td>28-03-2020</td>\n",
              "      <td>Setting a new record: two hours of queuing for...</td>\n",
              "      <td>Neutral</td>\n",
              "    </tr>\n",
              "    <tr>\n",
              "      <th>24963</th>\n",
              "      <td>28762</td>\n",
              "      <td>73714</td>\n",
              "      <td>NaN</td>\n",
              "      <td>28-03-2020</td>\n",
              "      <td>@HarvardChanSPH You can also refer to @necsi g...</td>\n",
              "      <td>Extremely Positive</td>\n",
              "    </tr>\n",
              "    <tr>\n",
              "      <th>24964</th>\n",
              "      <td>28763</td>\n",
              "      <td>73715</td>\n",
              "      <td>Marlboro, NJ</td>\n",
              "      <td>28-03-2020</td>\n",
              "      <td>Consumer Reports: Tips for staying healthy at ...</td>\n",
              "      <td>Positive</td>\n",
              "    </tr>\n",
              "    <tr>\n",
              "      <th>24965</th>\n",
              "      <td>28764</td>\n",
              "      <td>73716</td>\n",
              "      <td>PHILADELPHIA  PA</td>\n",
              "      <td>28-03-2020</td>\n",
              "      <td>I went to this Latin supermarket this morning ...</td>\n",
              "      <td>Extremely Positive</td>\n",
              "    </tr>\n",
              "    <tr>\n",
              "      <th>24966</th>\n",
              "      <td>28765</td>\n",
              "      <td>73717</td>\n",
              "      <td>Hyderabad, Telangana</td>\n",
              "      <td>28-03-2020</td>\n",
              "      <td>As #TelanganaFightsCorona in these testing tim...</td>\n",
              "      <td>Positive</td>\n",
              "    </tr>\n",
              "    <tr>\n",
              "      <th>24967</th>\n",
              "      <td>28766</td>\n",
              "      <td>73718</td>\n",
              "      <td>Wolverhampton, West Midlands</td>\n",
              "      <td>28-03-2020</td>\n",
              "      <td>Protect yourself and others by washing your ha...</td>\n",
              "      <td>Extremely Positive</td>\n",
              "    </tr>\n",
              "    <tr>\n",
              "      <th>24968</th>\n",
              "      <td>28767</td>\n",
              "      <td>73719</td>\n",
              "      <td>Glasgow, Scotland</td>\n",
              "      <td>28-03-2020</td>\n",
              "      <td>Combined my two great passions: camp Gilbert a...</td>\n",
              "      <td>Extremely Positive</td>\n",
              "    </tr>\n",
              "    <tr>\n",
              "      <th>24969</th>\n",
              "      <td>28768</td>\n",
              "      <td>73720</td>\n",
              "      <td>Colorado</td>\n",
              "      <td>28-03-2020</td>\n",
              "      <td>Many of us expect to be spending more time at ...</td>\n",
              "      <td>Extremely Positive</td>\n",
              "    </tr>\n",
              "    <tr>\n",
              "      <th>24970</th>\n",
              "      <td>28769</td>\n",
              "      <td>73721</td>\n",
              "      <td>Abuja</td>\n",
              "      <td>28-03-2020</td>\n",
              "      <td>My own little way of saying this \"too shall pa...</td>\n",
              "      <td>Extremely Positive</td>\n",
              "    </tr>\n",
              "  </tbody>\n",
              "</table>\n",
              "</div>"
            ],
            "text/plain": [
              "       UserName  ...           Sentiment\n",
              "24948     28747  ...            Positive\n",
              "24949     28748  ...            Negative\n",
              "24950     28749  ...  Extremely Positive\n",
              "24951     28750  ...  Extremely Positive\n",
              "24952     28751  ...            Negative\n",
              "24953     28752  ...  Extremely Positive\n",
              "24954     28753  ...  Extremely Negative\n",
              "24955     28754  ...  Extremely Positive\n",
              "24956     28755  ...            Positive\n",
              "24957     28756  ...  Extremely Positive\n",
              "24958     28757  ...            Negative\n",
              "24959     28758  ...            Positive\n",
              "24960     28759  ...            Negative\n",
              "24961     28760  ...            Positive\n",
              "24962     28761  ...             Neutral\n",
              "24963     28762  ...  Extremely Positive\n",
              "24964     28763  ...            Positive\n",
              "24965     28764  ...  Extremely Positive\n",
              "24966     28765  ...            Positive\n",
              "24967     28766  ...  Extremely Positive\n",
              "24968     28767  ...  Extremely Positive\n",
              "24969     28768  ...  Extremely Positive\n",
              "24970     28769  ...  Extremely Positive\n",
              "\n",
              "[23 rows x 6 columns]"
            ]
          },
          "metadata": {
            "tags": []
          },
          "execution_count": 19
        }
      ]
    },
    {
      "cell_type": "code",
      "metadata": {
        "colab": {
          "base_uri": "https://localhost:8080/",
          "height": 402
        },
        "id": "RB-YBLr-tzNA",
        "outputId": "4d532d68-4a3c-45a8-c571-4a4705e68ba5"
      },
      "source": [
        "df[df['TweetAt']=='30-03-2020']"
      ],
      "execution_count": null,
      "outputs": [
        {
          "output_type": "execute_result",
          "data": {
            "text/html": [
              "<div>\n",
              "<style scoped>\n",
              "    .dataframe tbody tr th:only-of-type {\n",
              "        vertical-align: middle;\n",
              "    }\n",
              "\n",
              "    .dataframe tbody tr th {\n",
              "        vertical-align: top;\n",
              "    }\n",
              "\n",
              "    .dataframe thead th {\n",
              "        text-align: right;\n",
              "    }\n",
              "</style>\n",
              "<table border=\"1\" class=\"dataframe\">\n",
              "  <thead>\n",
              "    <tr style=\"text-align: right;\">\n",
              "      <th></th>\n",
              "      <th>UserName</th>\n",
              "      <th>ScreenName</th>\n",
              "      <th>Location</th>\n",
              "      <th>TweetAt</th>\n",
              "      <th>OriginalTweet</th>\n",
              "      <th>Sentiment</th>\n",
              "    </tr>\n",
              "  </thead>\n",
              "  <tbody>\n",
              "    <tr>\n",
              "      <th>25096</th>\n",
              "      <td>28895</td>\n",
              "      <td>73847</td>\n",
              "      <td>England, United Kingdom</td>\n",
              "      <td>30-03-2020</td>\n",
              "      <td>\"Frontline staff work upto 14hrs\"\\r\\r\\n\\r\\r\\n\"...</td>\n",
              "      <td>Positive</td>\n",
              "    </tr>\n",
              "    <tr>\n",
              "      <th>25097</th>\n",
              "      <td>28896</td>\n",
              "      <td>73848</td>\n",
              "      <td>NaN</td>\n",
              "      <td>30-03-2020</td>\n",
              "      <td>No matter what you talk about, the conversatio...</td>\n",
              "      <td>Extremely Negative</td>\n",
              "    </tr>\n",
              "    <tr>\n",
              "      <th>25098</th>\n",
              "      <td>28897</td>\n",
              "      <td>73849</td>\n",
              "      <td>Adelaide, South Australia</td>\n",
              "      <td>30-03-2020</td>\n",
              "      <td>The @UN has been forced to issue a Âbattle pl...</td>\n",
              "      <td>Extremely Negative</td>\n",
              "    </tr>\n",
              "    <tr>\n",
              "      <th>25099</th>\n",
              "      <td>28898</td>\n",
              "      <td>73850</td>\n",
              "      <td>India</td>\n",
              "      <td>30-03-2020</td>\n",
              "      <td>#Covid2019 | Demand for existing residential s...</td>\n",
              "      <td>Negative</td>\n",
              "    </tr>\n",
              "    <tr>\n",
              "      <th>25100</th>\n",
              "      <td>28899</td>\n",
              "      <td>73851</td>\n",
              "      <td>NaN</td>\n",
              "      <td>30-03-2020</td>\n",
              "      <td>The supermarket is full of people It seems tha...</td>\n",
              "      <td>Positive</td>\n",
              "    </tr>\n",
              "    <tr>\n",
              "      <th>...</th>\n",
              "      <td>...</td>\n",
              "      <td>...</td>\n",
              "      <td>...</td>\n",
              "      <td>...</td>\n",
              "      <td>...</td>\n",
              "      <td>...</td>\n",
              "    </tr>\n",
              "    <tr>\n",
              "      <th>25178</th>\n",
              "      <td>28977</td>\n",
              "      <td>73929</td>\n",
              "      <td>NaN</td>\n",
              "      <td>30-03-2020</td>\n",
              "      <td>@MOPHQatar @MOI_QatarEn @ILQLive Limit the amo...</td>\n",
              "      <td>Extremely Positive</td>\n",
              "    </tr>\n",
              "    <tr>\n",
              "      <th>25179</th>\n",
              "      <td>28978</td>\n",
              "      <td>73930</td>\n",
              "      <td>Earth</td>\n",
              "      <td>30-03-2020</td>\n",
              "      <td>@realDonaldTrump Why do you keep saying \"if yo...</td>\n",
              "      <td>Negative</td>\n",
              "    </tr>\n",
              "    <tr>\n",
              "      <th>25180</th>\n",
              "      <td>28979</td>\n",
              "      <td>73931</td>\n",
              "      <td>Jakarta</td>\n",
              "      <td>30-03-2020</td>\n",
              "      <td>You know shit is real when the supermarket is ...</td>\n",
              "      <td>Negative</td>\n",
              "    </tr>\n",
              "    <tr>\n",
              "      <th>25181</th>\n",
              "      <td>28980</td>\n",
              "      <td>73932</td>\n",
              "      <td>NaN</td>\n",
              "      <td>30-03-2020</td>\n",
              "      <td>At the best of times I canÂt stand anyone nea...</td>\n",
              "      <td>Extremely Positive</td>\n",
              "    </tr>\n",
              "    <tr>\n",
              "      <th>25182</th>\n",
              "      <td>28981</td>\n",
              "      <td>73933</td>\n",
              "      <td>NaN</td>\n",
              "      <td>30-03-2020</td>\n",
              "      <td>Anybody else watching Bird Box now and noticin...</td>\n",
              "      <td>Neutral</td>\n",
              "    </tr>\n",
              "  </tbody>\n",
              "</table>\n",
              "<p>87 rows × 6 columns</p>\n",
              "</div>"
            ],
            "text/plain": [
              "       UserName  ...           Sentiment\n",
              "25096     28895  ...            Positive\n",
              "25097     28896  ...  Extremely Negative\n",
              "25098     28897  ...  Extremely Negative\n",
              "25099     28898  ...            Negative\n",
              "25100     28899  ...            Positive\n",
              "...         ...  ...                 ...\n",
              "25178     28977  ...  Extremely Positive\n",
              "25179     28978  ...            Negative\n",
              "25180     28979  ...            Negative\n",
              "25181     28980  ...  Extremely Positive\n",
              "25182     28981  ...             Neutral\n",
              "\n",
              "[87 rows x 6 columns]"
            ]
          },
          "metadata": {
            "tags": []
          },
          "execution_count": 20
        }
      ]
    },
    {
      "cell_type": "code",
      "metadata": {
        "colab": {
          "base_uri": "https://localhost:8080/"
        },
        "id": "iHEriUs7t5fc",
        "outputId": "03235362-5179-476a-c6d0-9bddcc6a74b0"
      },
      "source": [
        "df['Location'].value_counts()"
      ],
      "execution_count": null,
      "outputs": [
        {
          "output_type": "execute_result",
          "data": {
            "text/plain": [
              "London                            540\n",
              "United States                     528\n",
              "London, England                   520\n",
              "New York, NY                      395\n",
              "Washington, DC                    373\n",
              "                                 ... \n",
              "your attic........bwahahaha?        1\n",
              "MilkyWay                            1\n",
              "Absolutely T for Tremendous         1\n",
              "Trail, British Columbia             1\n",
              "Moving forward or turning left      1\n",
              "Name: Location, Length: 12220, dtype: int64"
            ]
          },
          "metadata": {
            "tags": []
          },
          "execution_count": 21
        }
      ]
    },
    {
      "cell_type": "code",
      "metadata": {
        "colab": {
          "base_uri": "https://localhost:8080/",
          "height": 431
        },
        "id": "e0cnT3Rat9J5",
        "outputId": "52eface1-b96d-4834-dc38-cb1814dca6d8"
      },
      "source": [
        "sns.countplot(df['TweetAt'])\r\n",
        "plt.xticks(rotation = 90)"
      ],
      "execution_count": null,
      "outputs": [
        {
          "output_type": "stream",
          "text": [
            "/usr/local/lib/python3.6/dist-packages/seaborn/_decorators.py:43: FutureWarning: Pass the following variable as a keyword arg: x. From version 0.12, the only valid positional argument will be `data`, and passing other arguments without an explicit keyword will result in an error or misinterpretation.\n",
            "  FutureWarning\n"
          ],
          "name": "stderr"
        },
        {
          "output_type": "execute_result",
          "data": {
            "text/plain": [
              "(array([ 0,  1,  2,  3,  4,  5,  6,  7,  8,  9, 10, 11, 12, 13, 14, 15, 16,\n",
              "        17, 18, 19, 20, 21, 22, 23, 24, 25, 26, 27, 28, 29]),\n",
              " <a list of 30 Text major ticklabel objects>)"
            ]
          },
          "metadata": {
            "tags": []
          },
          "execution_count": 23
        },
        {
          "output_type": "display_data",
          "data": {
            "image/png": "[encoded data removed]",
            "text/plain": [
              "<Figure size 432x288 with 1 Axes>"
            ]
          },
          "metadata": {
            "tags": [],
            "needs_background": "light"
          }
        }
      ]
    },
    {
      "cell_type": "code",
      "metadata": {
        "id": "Sq3Qoj5wuBgJ",
        "colab": {
          "base_uri": "https://localhost:8080/",
          "height": 431
        },
        "outputId": "84744dc4-f9c4-4428-8a65-50de2835c4d5"
      },
      "source": [
        "sns.countplot(df['TweetAt'],hue = df['Sentiment'],hue_order=[ 'Extremely Negative', 'Negative','Neutral', 'Positive','Extremely Positive'],palette = 'coolwarm')\r\n",
        "plt.xticks(rotation = 90)"
      ],
      "execution_count": null,
      "outputs": [
        {
          "output_type": "stream",
          "text": [
            "/usr/local/lib/python3.6/dist-packages/seaborn/_decorators.py:43: FutureWarning: Pass the following variable as a keyword arg: x. From version 0.12, the only valid positional argument will be `data`, and passing other arguments without an explicit keyword will result in an error or misinterpretation.\n",
            "  FutureWarning\n"
          ],
          "name": "stderr"
        },
        {
          "output_type": "execute_result",
          "data": {
            "text/plain": [
              "(array([ 0,  1,  2,  3,  4,  5,  6,  7,  8,  9, 10, 11, 12, 13, 14, 15, 16,\n",
              "        17, 18, 19, 20, 21, 22, 23, 24, 25, 26, 27, 28, 29]),\n",
              " <a list of 30 Text major ticklabel objects>)"
            ]
          },
          "metadata": {
            "tags": []
          },
          "execution_count": 26
        },
        {
          "output_type": "display_data",
          "data": {
            "image/png": "[encoded data removed]",
            "text/plain": [
              "<Figure size 432x288 with 1 Axes>"
            ]
          },
          "metadata": {
            "tags": [],
            "needs_background": "light"
          }
        }
      ]
    },
    {
      "cell_type": "code",
      "metadata": {
        "colab": {
          "base_uri": "https://localhost:8080/"
        },
        "id": "UM_usq6eqDj6",
        "outputId": "bb77baf4-1d2d-4b68-a307-9f2ff587b7c1"
      },
      "source": [
        "df['Location'].unique()"
      ],
      "execution_count": null,
      "outputs": [
        {
          "output_type": "execute_result",
          "data": {
            "text/plain": [
              "array(['London', 'UK', 'Vagabonds', ..., 'Juba south sudan', 'OHIO',\n",
              "       'i love you so much || he/him'], dtype=object)"
            ]
          },
          "metadata": {
            "tags": []
          },
          "execution_count": 27
        }
      ]
    },
    {
      "cell_type": "code",
      "metadata": {
        "colab": {
          "base_uri": "https://localhost:8080/"
        },
        "id": "m_Q42-xzqhE_",
        "outputId": "43887fd5-7dc9-4842-95d8-eff7bb1c833c"
      },
      "source": [
        "df.columns"
      ],
      "execution_count": null,
      "outputs": [
        {
          "output_type": "execute_result",
          "data": {
            "text/plain": [
              "Index(['UserName', 'ScreenName', 'Location', 'TweetAt', 'OriginalTweet',\n",
              "       'Sentiment'],\n",
              "      dtype='object')"
            ]
          },
          "metadata": {
            "tags": []
          },
          "execution_count": 28
        }
      ]
    },
    {
      "cell_type": "code",
      "metadata": {
        "colab": {
          "base_uri": "https://localhost:8080/"
        },
        "id": "kxHmDBPQqkge",
        "outputId": "3097a590-9716-4ec3-83cf-4856b3d04d19"
      },
      "source": [
        "#@title NLTK and String Import\r\n",
        "import nltk\r\n",
        "nltk.download('stopwords')\r\n",
        "import string\r\n",
        "from nltk.corpus import stopwords"
      ],
      "execution_count": null,
      "outputs": [
        {
          "output_type": "stream",
          "text": [
            "[nltk_data] Downloading package stopwords to /root/nltk_data...\n",
            "[nltk_data]   Unzipping corpora/stopwords.zip.\n"
          ],
          "name": "stdout"
        }
      ]
    },
    {
      "cell_type": "code",
      "metadata": {
        "colab": {
          "base_uri": "https://localhost:8080/"
        },
        "id": "GIgDAnRYqo1W",
        "outputId": "8ef5f37d-5b67-40f2-a54b-766cd5ad93c1"
      },
      "source": [
        "df.shape"
      ],
      "execution_count": null,
      "outputs": [
        {
          "output_type": "execute_result",
          "data": {
            "text/plain": [
              "(41157, 6)"
            ]
          },
          "metadata": {
            "tags": []
          },
          "execution_count": 30
        }
      ]
    },
    {
      "cell_type": "code",
      "metadata": {
        "colab": {
          "base_uri": "https://localhost:8080/"
        },
        "id": "lpK4KSKvqtVD",
        "outputId": "54b923b9-bcbe-4fac-c2dd-44e69b453844"
      },
      "source": [
        "df.loc[np.random.randint(0,40000)]"
      ],
      "execution_count": null,
      "outputs": [
        {
          "output_type": "execute_result",
          "data": {
            "text/plain": [
              "UserName                                                      4972\n",
              "ScreenName                                                   49924\n",
              "Location                                                  Tampa FL\n",
              "TweetAt                                                 17-03-2020\n",
              "OriginalTweet    New Interactive Consumer Spending Report: COVI...\n",
              "Sentiment                                                  Neutral\n",
              "Name: 1173, dtype: object"
            ]
          },
          "metadata": {
            "tags": []
          },
          "execution_count": 31
        }
      ]
    },
    {
      "cell_type": "code",
      "metadata": {
        "colab": {
          "base_uri": "https://localhost:8080/",
          "height": 195
        },
        "id": "Zwsx8OIUqyhs",
        "outputId": "511e998d-a473-4c25-d693-39bdf46b16b3"
      },
      "source": [
        "df.head()"
      ],
      "execution_count": null,
      "outputs": [
        {
          "output_type": "execute_result",
          "data": {
            "text/html": [
              "<div>\n",
              "<style scoped>\n",
              "    .dataframe tbody tr th:only-of-type {\n",
              "        vertical-align: middle;\n",
              "    }\n",
              "\n",
              "    .dataframe tbody tr th {\n",
              "        vertical-align: top;\n",
              "    }\n",
              "\n",
              "    .dataframe thead th {\n",
              "        text-align: right;\n",
              "    }\n",
              "</style>\n",
              "<table border=\"1\" class=\"dataframe\">\n",
              "  <thead>\n",
              "    <tr style=\"text-align: right;\">\n",
              "      <th></th>\n",
              "      <th>UserName</th>\n",
              "      <th>ScreenName</th>\n",
              "      <th>Location</th>\n",
              "      <th>TweetAt</th>\n",
              "      <th>OriginalTweet</th>\n",
              "      <th>Sentiment</th>\n",
              "    </tr>\n",
              "  </thead>\n",
              "  <tbody>\n",
              "    <tr>\n",
              "      <th>0</th>\n",
              "      <td>3799</td>\n",
              "      <td>48751</td>\n",
              "      <td>London</td>\n",
              "      <td>16-03-2020</td>\n",
              "      <td>@MeNyrbie @Phil_Gahan @Chrisitv https://t.co/i...</td>\n",
              "      <td>Neutral</td>\n",
              "    </tr>\n",
              "    <tr>\n",
              "      <th>1</th>\n",
              "      <td>3800</td>\n",
              "      <td>48752</td>\n",
              "      <td>UK</td>\n",
              "      <td>16-03-2020</td>\n",
              "      <td>advice Talk to your neighbours family to excha...</td>\n",
              "      <td>Positive</td>\n",
              "    </tr>\n",
              "    <tr>\n",
              "      <th>2</th>\n",
              "      <td>3801</td>\n",
              "      <td>48753</td>\n",
              "      <td>Vagabonds</td>\n",
              "      <td>16-03-2020</td>\n",
              "      <td>Coronavirus Australia: Woolworths to give elde...</td>\n",
              "      <td>Positive</td>\n",
              "    </tr>\n",
              "    <tr>\n",
              "      <th>3</th>\n",
              "      <td>3802</td>\n",
              "      <td>48754</td>\n",
              "      <td>NaN</td>\n",
              "      <td>16-03-2020</td>\n",
              "      <td>My food stock is not the only one which is emp...</td>\n",
              "      <td>Positive</td>\n",
              "    </tr>\n",
              "    <tr>\n",
              "      <th>4</th>\n",
              "      <td>3803</td>\n",
              "      <td>48755</td>\n",
              "      <td>NaN</td>\n",
              "      <td>16-03-2020</td>\n",
              "      <td>Me, ready to go at supermarket during the #COV...</td>\n",
              "      <td>Extremely Negative</td>\n",
              "    </tr>\n",
              "  </tbody>\n",
              "</table>\n",
              "</div>"
            ],
            "text/plain": [
              "   UserName  ...           Sentiment\n",
              "0      3799  ...             Neutral\n",
              "1      3800  ...            Positive\n",
              "2      3801  ...            Positive\n",
              "3      3802  ...            Positive\n",
              "4      3803  ...  Extremely Negative\n",
              "\n",
              "[5 rows x 6 columns]"
            ]
          },
          "metadata": {
            "tags": []
          },
          "execution_count": 32
        }
      ]
    },
    {
      "cell_type": "code",
      "metadata": {
        "id": "B2D6EoMlq2tQ"
      },
      "source": [
        "pun = string.punctuation"
      ],
      "execution_count": null,
      "outputs": []
    },
    {
      "cell_type": "code",
      "metadata": {
        "id": "lMgBywAqq6l-"
      },
      "source": [
        "pun = pun.replace('#','')"
      ],
      "execution_count": null,
      "outputs": []
    },
    {
      "cell_type": "code",
      "metadata": {
        "colab": {
          "base_uri": "https://localhost:8080/",
          "height": 35
        },
        "id": "32rDt4CYq9XK",
        "outputId": "0846eaa6-a7b9-47ad-daf6-cfbab0f48d90"
      },
      "source": [
        "pun"
      ],
      "execution_count": null,
      "outputs": [
        {
          "output_type": "execute_result",
          "data": {
            "application/vnd.google.colaboratory.intrinsic+json": {
              "type": "string"
            },
            "text/plain": [
              "'!\"$%&\\'()*+,-./:;<=>?@[\\\\]^_`{|}~'"
            ]
          },
          "metadata": {
            "tags": []
          },
          "execution_count": 35
        }
      ]
    },
    {
      "cell_type": "code",
      "metadata": {
        "id": "klZBseHbrBtT"
      },
      "source": [
        "def rem_pun(tweet):\r\n",
        "  stri = ''\r\n",
        "  for i in tweet:\r\n",
        "    if i not in pun:\r\n",
        "      stri+=i\r\n",
        "    else:\r\n",
        "      stri+=' '\r\n",
        "  return stri"
      ],
      "execution_count": null,
      "outputs": []
    },
    {
      "cell_type": "code",
      "metadata": {
        "id": "Yd17CaGtrEmd"
      },
      "source": [
        "def rm_links(tweet):\r\n",
        "  a=[]\r\n",
        "  for word in tweet.split():\r\n",
        "    if word.startswith('https:') or word.startswith('http:'):\r\n",
        "      continue\r\n",
        "    else:\r\n",
        "      a.append(word)\r\n",
        "  return ' '.join(a)"
      ],
      "execution_count": null,
      "outputs": []
    },
    {
      "cell_type": "code",
      "metadata": {
        "id": "3NWtERE-rH3O"
      },
      "source": [
        "def get_tags(tweet):\r\n",
        "  stri = ''\r\n",
        "  for word in tweet.lower().split():\r\n",
        "    if word.startswith(\"#\"):\r\n",
        "      stri+=word[1:]+','\r\n",
        "  return stri[:-1]"
      ],
      "execution_count": null,
      "outputs": []
    },
    {
      "cell_type": "code",
      "metadata": {
        "id": "gCxzTvJarM9V"
      },
      "source": [
        "def rm_sw(tweet):\r\n",
        "  a= []\r\n",
        "  sw = stopwords.words('english')\r\n",
        "  for word in tweet.lower().split():\r\n",
        "    if word.startswith('#'):\r\n",
        "      continue\r\n",
        "    if word not in sw:\r\n",
        "      a.append(word)\r\n",
        "  return ' '.join(a)"
      ],
      "execution_count": null,
      "outputs": []
    },
    {
      "cell_type": "code",
      "metadata": {
        "id": "qVUjGQPlrQNS"
      },
      "source": [
        "df['filtered_tweets'] = df['OriginalTweet'].apply(rm_links).apply(lambda x :  x.replace('\\r','').replace('\\n',''))"
      ],
      "execution_count": null,
      "outputs": []
    },
    {
      "cell_type": "code",
      "metadata": {
        "id": "iJM8QyO6rWmM"
      },
      "source": [
        "df['filtered_tweets'] = df['filtered_tweets'].apply(rem_pun)"
      ],
      "execution_count": null,
      "outputs": []
    },
    {
      "cell_type": "code",
      "metadata": {
        "id": "_igQh2borZdm"
      },
      "source": [
        "df['hashtags'] = df['filtered_tweets'].apply(get_tags)"
      ],
      "execution_count": null,
      "outputs": []
    },
    {
      "cell_type": "code",
      "metadata": {
        "colab": {
          "base_uri": "https://localhost:8080/"
        },
        "id": "_xj1mdaWrbm5",
        "outputId": "6e7e24ba-1829-4542-a83d-365a530d25fc"
      },
      "source": [
        "df.loc[37029]"
      ],
      "execution_count": null,
      "outputs": [
        {
          "output_type": "execute_result",
          "data": {
            "text/plain": [
              "UserName                                                       40828\n",
              "ScreenName                                                     85780\n",
              "Location                                                New York, NY\n",
              "TweetAt                                                   10-04-2020\n",
              "OriginalTweet      This piece from @reuters talks about inflation...\n",
              "Sentiment                                         Extremely Negative\n",
              "filtered_tweets    This piece from  reuters talks about inflation...\n",
              "hashtags                                                 coronavirus\n",
              "Name: 37029, dtype: object"
            ]
          },
          "metadata": {
            "tags": []
          },
          "execution_count": 43
        }
      ]
    },
    {
      "cell_type": "code",
      "metadata": {
        "id": "Q9vlPJa4reDl"
      },
      "source": [
        "df['words'] = df['filtered_tweets'].apply(rm_sw)"
      ],
      "execution_count": null,
      "outputs": []
    },
    {
      "cell_type": "code",
      "metadata": {
        "id": "1pm5dLA4rsP4"
      },
      "source": [
        "r = np.random.randint(0,40000)\r\n",
        "a,b,c = df.loc[r,['words','hashtags','OriginalTweet']]"
      ],
      "execution_count": null,
      "outputs": []
    },
    {
      "cell_type": "code",
      "metadata": {
        "colab": {
          "base_uri": "https://localhost:8080/"
        },
        "id": "WMRo7ffbrivF",
        "outputId": "2a52477d-8739-4715-aadb-85413164403d"
      },
      "source": [
        "print(f'Words:{a}\\nHashtags:{b}\\nOT:{c}')"
      ],
      "execution_count": null,
      "outputs": [
        {
          "output_type": "stream",
          "text": [
            "Words:aftermath free mass testing health expenses suppose covid 19 already eradicated worldwide would sum increase 1 taxes babawiin ni govt ang nagasto noong covid 2 prices goods due tax increase private businesses\n",
            "Hashtags:\n",
            "OT:Aftermath of Free Mass Testing and other Health Expenses (Suppose COVID-19 will had been already eradicated worldwide)\r\r\n",
            "It would all sum up into an INCREASE of:\r\r\n",
            "\r\r\n",
            "1. Taxes (Babawiin ni govt. ang nagasto noong COVID)\r\r\n",
            "2. Prices of Goods (Due to Tax Increase for private businesses)\n"
          ],
          "name": "stdout"
        }
      ]
    },
    {
      "cell_type": "code",
      "metadata": {
        "id": "dedED50yrpAR"
      },
      "source": [
        "from sklearn.feature_extraction.text import TfidfVectorizer"
      ],
      "execution_count": null,
      "outputs": []
    },
    {
      "cell_type": "code",
      "metadata": {
        "id": "tjs-RWryrwoY"
      },
      "source": [
        "vectorizer_hastag = TfidfVectorizer(min_df = 5 )\r\n",
        "vectorizer_words  = TfidfVectorizer( min_df= 10)"
      ],
      "execution_count": null,
      "outputs": []
    },
    {
      "cell_type": "code",
      "metadata": {
        "id": "PJXVMBAWrzDs"
      },
      "source": [
        "X_hastags = vectorizer_hastag.fit_transform(df['hashtags'])"
      ],
      "execution_count": null,
      "outputs": []
    },
    {
      "cell_type": "code",
      "metadata": {
        "id": "unNwUfCPr1Yy"
      },
      "source": [
        "X_words = vectorizer_words.fit_transform(df['words'])"
      ],
      "execution_count": null,
      "outputs": []
    },
    {
      "cell_type": "code",
      "metadata": {
        "colab": {
          "base_uri": "https://localhost:8080/"
        },
        "id": "13EGZVEWr5Us",
        "outputId": "f611b656-5be6-46ec-c774-25c4cda2a041"
      },
      "source": [
        "X_words.shape"
      ],
      "execution_count": null,
      "outputs": [
        {
          "output_type": "execute_result",
          "data": {
            "text/plain": [
              "(41157, 6355)"
            ]
          },
          "metadata": {
            "tags": []
          },
          "execution_count": 52
        }
      ]
    },
    {
      "cell_type": "code",
      "metadata": {
        "colab": {
          "base_uri": "https://localhost:8080/"
        },
        "id": "OvlW4SgTr8pm",
        "outputId": "e070734c-0d1d-4b51-b7ca-103f4b7f7531"
      },
      "source": [
        "features = vectorizer_hastag.get_feature_names()\r\n",
        "features"
      ],
      "execution_count": null,
      "outputs": [
        {
          "output_type": "execute_result",
          "data": {
            "text/plain": [
              "['1u',\n",
              " '2019cov',\n",
              " '2019ncov',\n",
              " '2020',\n",
              " '21daylockdown',\n",
              " '21dayslockdown',\n",
              " '30moredays',\n",
              " '3dprinting',\n",
              " '5g',\n",
              " '5gtowers',\n",
              " '7news',\n",
              " 'accc',\n",
              " 'actsofkindness',\n",
              " 'ad',\n",
              " 'adelaide',\n",
              " 'ads',\n",
              " 'advertising',\n",
              " 'advisorymandi',\n",
              " 'afghanistan',\n",
              " 'africa',\n",
              " 'afterhours',\n",
              " 'agenparl',\n",
              " 'agriculture',\n",
              " 'ai',\n",
              " 'airlines',\n",
              " 'alberta',\n",
              " 'alcohol',\n",
              " 'aldi',\n",
              " 'alert',\n",
              " 'alonetogether',\n",
              " 'aluminium',\n",
              " 'amazon',\n",
              " 'amazonprime',\n",
              " 'america',\n",
              " 'americans',\n",
              " 'amwriting',\n",
              " 'analytics',\n",
              " 'animalcrossing',\n",
              " 'animalcrossingnewhorizons',\n",
              " 'antibacterial',\n",
              " 'antiviral',\n",
              " 'anxiety',\n",
              " 'apocalypse',\n",
              " 'apocalypse2020',\n",
              " 'apparel',\n",
              " 'apple',\n",
              " 'apps',\n",
              " 'aramco',\n",
              " 'arizona',\n",
              " 'art',\n",
              " 'asda',\n",
              " 'asia',\n",
              " 'askdrh',\n",
              " 'atlanta',\n",
              " 'ausbiz',\n",
              " 'ausecon',\n",
              " 'auspol',\n",
              " 'auspol2020',\n",
              " 'australia',\n",
              " 'automotive',\n",
              " 'awareness',\n",
              " 'b2b',\n",
              " 'b2c',\n",
              " 'badasswoman',\n",
              " 'bahrain',\n",
              " 'bailout',\n",
              " 'baking',\n",
              " 'bangkok',\n",
              " 'bangladesh',\n",
              " 'banking',\n",
              " 'bankruptcy',\n",
              " 'banks',\n",
              " 'bathandbodyworks',\n",
              " 'bathroom',\n",
              " 'bayarea',\n",
              " 'bbb',\n",
              " 'bbbdelivers',\n",
              " 'bbc',\n",
              " 'bbcbreakfast',\n",
              " 'bbcnews',\n",
              " 'bbcyourquestions',\n",
              " 'bcpoli',\n",
              " 'beans',\n",
              " 'beatcovid19',\n",
              " 'beauty',\n",
              " 'beef',\n",
              " 'beer',\n",
              " 'behavior',\n",
              " 'behaviour',\n",
              " 'bekind',\n",
              " 'bekindtoeachother',\n",
              " 'benice',\n",
              " 'beresponsible',\n",
              " 'berlin',\n",
              " 'bernie',\n",
              " 'besafe',\n",
              " 'besmart',\n",
              " 'bidet',\n",
              " 'bitcoin',\n",
              " 'bleach',\n",
              " 'blockchain',\n",
              " 'blog',\n",
              " 'bogroll',\n",
              " 'bonds',\n",
              " 'books',\n",
              " 'bored',\n",
              " 'boris',\n",
              " 'borisjohnson',\n",
              " 'borisout',\n",
              " 'boston',\n",
              " 'boycotthul',\n",
              " 'boycottsportsdirect',\n",
              " 'boycottvodafone',\n",
              " 'bradpaisley',\n",
              " 'branding',\n",
              " 'brands',\n",
              " 'brazil',\n",
              " 'bread',\n",
              " 'breaking',\n",
              " 'breakingnews',\n",
              " 'brent',\n",
              " 'brentoil',\n",
              " 'brexit',\n",
              " 'brickandmortar',\n",
              " 'britain',\n",
              " 'british',\n",
              " 'brooklyn',\n",
              " 'browns',\n",
              " 'btc',\n",
              " 'bulkbuying',\n",
              " 'bushcraft',\n",
              " 'business',\n",
              " 'businesses',\n",
              " 'businessnews',\n",
              " 'businessowner',\n",
              " 'buylocal',\n",
              " 'c4news',\n",
              " 'cabinfever',\n",
              " 'cake',\n",
              " 'calgary',\n",
              " 'california',\n",
              " 'californiacoronavirus',\n",
              " 'californialockdown',\n",
              " 'calockdown',\n",
              " 'cambridge',\n",
              " 'canada',\n",
              " 'canadacovid19',\n",
              " 'canadalockdown',\n",
              " 'cannabis',\n",
              " 'cannabiscommunity',\n",
              " 'canonforcommunity',\n",
              " 'capitalism',\n",
              " 'care',\n",
              " 'caresact',\n",
              " 'caronavirus',\n",
              " 'cars',\n",
              " 'cartoon',\n",
              " 'cash',\n",
              " 'cashier',\n",
              " 'cats',\n",
              " 'cattle',\n",
              " 'cbd',\n",
              " 'ccp',\n",
              " 'ccpa',\n",
              " 'ccpvirus',\n",
              " 'cdc',\n",
              " 'cdnecon',\n",
              " 'cdnpoli',\n",
              " 'charmin',\n",
              " 'cheap',\n",
              " 'chemicals',\n",
              " 'chicago',\n",
              " 'chicken',\n",
              " 'china',\n",
              " 'chinaliedandpeopledied',\n",
              " 'chinaliedpeopledied',\n",
              " 'chinavirus',\n",
              " 'chinaâ',\n",
              " 'chinese',\n",
              " 'chinesecoronavirus',\n",
              " 'chinesevirus',\n",
              " 'chinesevirus19',\n",
              " 'chinesewuhanvirus',\n",
              " 'chloroquine',\n",
              " 'cinema',\n",
              " 'clapforcarers',\n",
              " 'clapforkeyworkers',\n",
              " 'clapforourcarers',\n",
              " 'clapforthenhs',\n",
              " 'clean',\n",
              " 'cleaning',\n",
              " 'cleanliness',\n",
              " 'cleveland',\n",
              " 'climatechange',\n",
              " 'climatecrisis',\n",
              " 'closures',\n",
              " 'cnbc',\n",
              " 'cnn',\n",
              " 'co',\n",
              " 'co2',\n",
              " 'codvid19',\n",
              " 'coffee',\n",
              " 'coins',\n",
              " 'coles',\n",
              " 'collapse',\n",
              " 'comedian',\n",
              " 'comedy',\n",
              " 'comic',\n",
              " 'comics',\n",
              " 'commerce',\n",
              " 'commodities',\n",
              " 'commodity',\n",
              " 'commonsense',\n",
              " 'community',\n",
              " 'communityspirit',\n",
              " 'compassion',\n",
              " 'competition',\n",
              " 'confidence',\n",
              " 'confinement',\n",
              " 'congress',\n",
              " 'construction',\n",
              " 'consumer',\n",
              " 'consumerbehavior',\n",
              " 'consumerbehaviour',\n",
              " 'consumerconfidence',\n",
              " 'consumergoods',\n",
              " 'consumerinsights',\n",
              " 'consumerprotection',\n",
              " 'consumerrights',\n",
              " 'consumers',\n",
              " 'consumertrends',\n",
              " 'consumption',\n",
              " 'contagion',\n",
              " 'contest',\n",
              " 'contestalert',\n",
              " 'convenience',\n",
              " 'conveniencestores',\n",
              " 'convid19',\n",
              " 'convid19uk',\n",
              " 'cooking',\n",
              " 'coop',\n",
              " 'copper',\n",
              " 'cor',\n",
              " 'corn',\n",
              " 'cornavirusoutbreak',\n",
              " 'cornoravirusuk',\n",
              " 'coro',\n",
              " 'corona',\n",
              " 'coronaalert',\n",
              " 'coronaaustralia',\n",
              " 'coronachainscare',\n",
              " 'coronacrisis',\n",
              " 'coronacrisisuk',\n",
              " 'coronafighters',\n",
              " 'coronaindia',\n",
              " 'coronainmaharashtra',\n",
              " 'coronainpakistan',\n",
              " 'coronakrise',\n",
              " 'coronalockdown',\n",
              " 'coronalockdownuk',\n",
              " 'coronamemes',\n",
              " 'coronaoutbreak',\n",
              " 'coronapandemic',\n",
              " 'coronapandemie',\n",
              " 'coronapocalypse',\n",
              " 'coronapocolypse',\n",
              " 'coronastopkarona',\n",
              " 'coronatime',\n",
              " 'coronauk',\n",
              " 'coronaupdate',\n",
              " 'coronaupdates',\n",
              " 'coronaupdatesindia',\n",
              " 'coronav',\n",
              " 'coronavid19',\n",
              " 'coronavillains',\n",
              " 'coronavir',\n",
              " 'coronaviru',\n",
              " 'coronavirus',\n",
              " 'coronavirus2020',\n",
              " 'coronavirusau',\n",
              " 'coronavirusaus',\n",
              " 'coronavirusaustralia',\n",
              " 'coronaviruscanada',\n",
              " 'coronaviruschallenge',\n",
              " 'coronaviruscrisis',\n",
              " 'coronavirusindia',\n",
              " 'coronavirusinindia',\n",
              " 'coronavirusinkenya',\n",
              " 'coronavirusinnigeria',\n",
              " 'coronavirusinpakistan',\n",
              " 'coronavirusinsa',\n",
              " 'coronavirusinsouthafrica',\n",
              " 'coronavirusireland',\n",
              " 'coronavirusitalia',\n",
              " 'coronavirusitalianews',\n",
              " 'coronavirusitaly',\n",
              " 'coronaviruske',\n",
              " 'coronaviruslockdown',\n",
              " 'coronaviruslockdownuk',\n",
              " 'coronavirusmemes',\n",
              " 'coronavirusnewyork',\n",
              " 'coronavirusnigeria',\n",
              " 'coronavirusnyc',\n",
              " 'coronavirusnz',\n",
              " 'coronavirusoubreak',\n",
              " 'coronavirusoutbreak',\n",
              " 'coronavirusoutbreakindia',\n",
              " 'coronaviruspakistan',\n",
              " 'coronaviruspandemic',\n",
              " 'coronavirussa',\n",
              " 'coronavirussouthafrica',\n",
              " 'coronavirustips',\n",
              " 'coronavirustoronto',\n",
              " 'coronavirustruth',\n",
              " 'coronavirusuk',\n",
              " 'coronavirusupdate',\n",
              " 'coronavirusupdates',\n",
              " 'coronavirususa',\n",
              " 'coronavirusâ',\n",
              " 'coronavirã¼s',\n",
              " 'coronavtj',\n",
              " 'coronavã',\n",
              " 'corrupt',\n",
              " 'corvid19',\n",
              " 'corvid19uk',\n",
              " 'cosmetics',\n",
              " 'costco',\n",
              " 'coughing',\n",
              " 'cov',\n",
              " 'covi',\n",
              " 'covid',\n",
              " 'covid19',\n",
              " 'covid19au',\n",
              " 'covid19aus',\n",
              " 'covid19australia',\n",
              " 'covid19canada',\n",
              " 'covid19ghana',\n",
              " 'covid19india',\n",
              " 'covid19insa',\n",
              " 'covid19ireland',\n",
              " 'covid19italia',\n",
              " 'covid19ke',\n",
              " 'covid19kenya',\n",
              " 'covid19malaysia',\n",
              " 'covid19nigeria',\n",
              " 'covid19nz',\n",
              " 'covid19on',\n",
              " 'covid19ontario',\n",
              " 'covid19out',\n",
              " 'covid19outbreak',\n",
              " 'covid19pakistan',\n",
              " 'covid19pandemic',\n",
              " 'covid19ph',\n",
              " 'covid19response',\n",
              " 'covid19russia',\n",
              " 'covid19sa',\n",
              " 'covid19southafrica',\n",
              " 'covid19ug',\n",
              " 'covid19uk',\n",
              " 'covid19us',\n",
              " 'covid19usa',\n",
              " 'covid2019',\n",
              " 'covid2019au',\n",
              " 'covid2019india',\n",
              " 'covid2019uk',\n",
              " 'covid2020',\n",
              " 'covidactnow',\n",
              " 'covidagenparl',\n",
              " 'covidbc',\n",
              " 'covidcanada',\n",
              " 'covididiot',\n",
              " 'covididiots',\n",
              " 'covidindia',\n",
              " 'covidiot',\n",
              " 'covidiots',\n",
              " 'covidontario',\n",
              " 'coviduk',\n",
              " 'covod19',\n",
              " 'covoid19',\n",
              " 'cpg',\n",
              " 'crazy',\n",
              " 'cre',\n",
              " 'credit',\n",
              " 'creditunions',\n",
              " 'crime',\n",
              " 'crisis',\n",
              " 'croozefmnews',\n",
              " 'crude',\n",
              " 'crudeoil',\n",
              " 'crypto',\n",
              " 'cryptocurrency',\n",
              " 'cstores',\n",
              " 'culture',\n",
              " 'cuomo',\n",
              " 'curfew',\n",
              " 'currencies',\n",
              " 'currency',\n",
              " 'customer',\n",
              " 'customerexperience',\n",
              " 'customers',\n",
              " 'customerservice',\n",
              " 'cx',\n",
              " 'cybersecurity',\n",
              " 'dairy',\n",
              " 'dallas',\n",
              " 'dankmeme',\n",
              " 'dankmemes',\n",
              " 'data',\n",
              " 'dataanalytics',\n",
              " 'davido',\n",
              " 'day8oflockdown',\n",
              " 'debt',\n",
              " 'delivery',\n",
              " 'demand',\n",
              " 'democrats',\n",
              " 'demystdata',\n",
              " 'denmark',\n",
              " 'design',\n",
              " 'diesel',\n",
              " 'diet',\n",
              " 'digital',\n",
              " 'digitalmarketing',\n",
              " 'digitaltransformation',\n",
              " 'dirtypeople',\n",
              " 'disabled',\n",
              " 'disease',\n",
              " 'disinfect',\n",
              " 'disinfectant',\n",
              " 'disinfectants',\n",
              " 'disney',\n",
              " 'diy',\n",
              " 'doctor',\n",
              " 'doctors',\n",
              " 'doha',\n",
              " 'dollar',\n",
              " 'dollartree',\n",
              " 'donaldtrump',\n",
              " 'donate',\n",
              " 'donation',\n",
              " 'donations',\n",
              " 'dontbeaspreader',\n",
              " 'dontpanic',\n",
              " 'dontpanicbuy',\n",
              " 'dotherightthing',\n",
              " 'dow',\n",
              " 'dowjones',\n",
              " 'drawing',\n",
              " 'drfauci',\n",
              " 'drone',\n",
              " 'dropshipping',\n",
              " 'dtc',\n",
              " 'dubai',\n",
              " 'earth',\n",
              " 'easter',\n",
              " 'easter2020',\n",
              " 'easterbunny',\n",
              " 'eastersunday',\n",
              " 'easterweekend',\n",
              " 'ebay',\n",
              " 'ecommerce',\n",
              " 'economic',\n",
              " 'economiccrisis',\n",
              " 'economics',\n",
              " 'economy',\n",
              " 'education',\n",
              " 'eggs',\n",
              " 'egypt',\n",
              " 'eldercare',\n",
              " 'elderly',\n",
              " 'electricitymarkets',\n",
              " 'emergency',\n",
              " 'employees',\n",
              " 'employment',\n",
              " 'emptyshelves',\n",
              " 'energy',\n",
              " 'england',\n",
              " 'entertainment',\n",
              " 'entrepreneur',\n",
              " 'environment',\n",
              " 'epidemic',\n",
              " 'equity',\n",
              " 'essential',\n",
              " 'essentials',\n",
              " 'essentialservices',\n",
              " 'essentialworker',\n",
              " 'essentialworkers',\n",
              " 'ethanol',\n",
              " 'ethiopia',\n",
              " 'ethylene',\n",
              " 'eu',\n",
              " 'euets',\n",
              " 'europe',\n",
              " 'externaldata',\n",
              " 'facebook',\n",
              " 'facemask',\n",
              " 'facemasks',\n",
              " 'facts',\n",
              " 'factsnotfear',\n",
              " 'fail',\n",
              " 'fakenews',\n",
              " 'family',\n",
              " 'farm',\n",
              " 'farmers',\n",
              " 'farming',\n",
              " 'fashion',\n",
              " 'fbcnews',\n",
              " 'fda',\n",
              " 'fear',\n",
              " 'fed',\n",
              " 'federalreserve',\n",
              " 'fight',\n",
              " 'fightagainstcoronavirus',\n",
              " 'fightcovid19',\n",
              " 'fiji',\n",
              " 'fijinews',\n",
              " 'film',\n",
              " 'finance',\n",
              " 'finances',\n",
              " 'financial',\n",
              " 'finland',\n",
              " 'fintech',\n",
              " 'firstdayofspring',\n",
              " 'firstresponders',\n",
              " 'fitness',\n",
              " 'flattenthecurve',\n",
              " 'flights',\n",
              " 'florida',\n",
              " 'flour',\n",
              " 'flu',\n",
              " 'fmcg',\n",
              " 'follow',\n",
              " 'food',\n",
              " 'foodandbeverage',\n",
              " 'foodbank',\n",
              " 'foodbanks',\n",
              " 'fooddelivery',\n",
              " 'foodie',\n",
              " 'foodindustry',\n",
              " 'foodinsecurity',\n",
              " 'foodinstitute',\n",
              " 'foodprices',\n",
              " 'foodsafety',\n",
              " 'foodsecurity',\n",
              " 'foodservice',\n",
              " 'foodshopping',\n",
              " 'foodshortage',\n",
              " 'foodshortages',\n",
              " 'foodsupply',\n",
              " 'foodsystems',\n",
              " 'foodwaste',\n",
              " 'football',\n",
              " 'forex',\n",
              " 'fortnite',\n",
              " 'foxnews',\n",
              " 'fracking',\n",
              " 'france',\n",
              " 'fraud',\n",
              " 'fraudprevention',\n",
              " 'free',\n",
              " 'fridayfeeling',\n",
              " 'fridaythoughts',\n",
              " 'frontline',\n",
              " 'frontlineheroes',\n",
              " 'fruits',\n",
              " 'ftc',\n",
              " 'ftcscambingo',\n",
              " 'fuel',\n",
              " 'fun',\n",
              " 'funny',\n",
              " 'games',\n",
              " 'gaming',\n",
              " 'gardening',\n",
              " 'gas',\n",
              " 'gasoline',\n",
              " 'gasprices',\n",
              " 'gaza',\n",
              " 'gcc',\n",
              " 'genz',\n",
              " 'georgia',\n",
              " 'germany',\n",
              " 'germs',\n",
              " 'ghana',\n",
              " 'gifts',\n",
              " 'giveawayalert',\n",
              " 'glasgow',\n",
              " 'global',\n",
              " 'globaleconomy',\n",
              " 'globalpandemic',\n",
              " 'gloves',\n",
              " 'glutenfree',\n",
              " 'gold',\n",
              " 'goldprice',\n",
              " 'goodnews',\n",
              " 'google',\n",
              " 'gop',\n",
              " 'gouging',\n",
              " 'government',\n",
              " 'governments',\n",
              " 'govt',\n",
              " 'grateful',\n",
              " 'gratitude',\n",
              " 'greece',\n",
              " 'greed',\n",
              " 'groceries',\n",
              " 'grocers',\n",
              " 'grocery',\n",
              " 'grocerydelivery',\n",
              " 'groceryindustry',\n",
              " 'groceryshopping',\n",
              " 'grocerystore',\n",
              " 'grocerystores',\n",
              " 'groceryworkers',\n",
              " 'growyourown',\n",
              " 'haha',\n",
              " 'hamont',\n",
              " 'hand',\n",
              " 'hands',\n",
              " 'handsanitiser',\n",
              " 'handsanitizer',\n",
              " 'handsanitizers',\n",
              " 'handwash',\n",
              " 'handwashing',\n",
              " 'hantavirus',\n",
              " 'happy',\n",
              " 'happyeaster',\n",
              " 'health',\n",
              " 'healthcare',\n",
              " 'healthcarefraud',\n",
              " 'healthcareheroes',\n",
              " 'healthcareworkers',\n",
              " 'healthtips',\n",
              " 'healthy',\n",
              " 'healthyathome',\n",
              " 'healthylifestyle',\n",
              " 'heb',\n",
              " 'help',\n",
              " 'helpeachother',\n",
              " 'helpingothers',\n",
              " 'hemp',\n",
              " 'heroes',\n",
              " 'heros',\n",
              " 'highriskcovid19',\n",
              " 'highstreet',\n",
              " 'hiring',\n",
              " 'hoarder',\n",
              " 'hoarders',\n",
              " 'hoarding',\n",
              " 'hollywood',\n",
              " 'home',\n",
              " 'homedelivery',\n",
              " 'homemade',\n",
              " 'homeoffice',\n",
              " 'homeschooling',\n",
              " 'homeworld',\n",
              " 'hongkong',\n",
              " 'hope',\n",
              " 'hording',\n",
              " 'hospital',\n",
              " 'hospitality',\n",
              " 'hospitals',\n",
              " 'hotchick',\n",
              " 'hotels',\n",
              " 'house',\n",
              " 'household',\n",
              " 'houseprices',\n",
              " 'housewares',\n",
              " 'housing',\n",
              " 'housingmarket',\n",
              " 'houston',\n",
              " 'hr',\n",
              " 'hrtech',\n",
              " 'hul',\n",
              " 'humanity',\n",
              " 'humor',\n",
              " 'humour',\n",
              " 'hungary',\n",
              " 'hunger',\n",
              " 'hydroxychloroquine',\n",
              " 'hygiene',\n",
              " 'hysteria',\n",
              " 'icis',\n",
              " 'icliniq100hrs',\n",
              " 'icymi',\n",
              " 'idiots',\n",
              " 'illinois',\n",
              " 'illustration',\n",
              " 'immunity',\n",
              " 'impact',\n",
              " 'india',\n",
              " 'indiafightcorona',\n",
              " 'indiafightscorona',\n",
              " 'indiafightscoronavirus',\n",
              " 'indialockdown',\n",
              " 'industrial',\n",
              " 'inflation',\n",
              " 'infrastructure',\n",
              " 'inittogether',\n",
              " 'innovation',\n",
              " 'insights',\n",
              " 'inspiration',\n",
              " 'instacart',\n",
              " 'instagram',\n",
              " 'instock',\n",
              " 'insurance',\n",
              " 'insurancefraud',\n",
              " 'internationaldayofhappiness',\n",
              " 'internet',\n",
              " 'inthistogether',\n",
              " 'inventory',\n",
              " 'invest',\n",
              " 'investing',\n",
              " 'investment',\n",
              " 'investments',\n",
              " 'investor',\n",
              " 'investors',\n",
              " 'iorestoacasa',\n",
              " 'iot',\n",
              " 'iphone',\n",
              " 'iran',\n",
              " 'iraq',\n",
              " 'ireland',\n",
              " 'isolation',\n",
              " 'isolationlife',\n",
              " 'israel',\n",
              " 'italy',\n",
              " 'italylockdown',\n",
              " 'janatacurfew',\n",
              " 'jantacurfew',\n",
              " 'japan',\n",
              " 'jobs',\n",
              " 'joke',\n",
              " 'jokes',\n",
              " 'journal',\n",
              " 'journaling',\n",
              " 'justsaying',\n",
              " 'kag',\n",
              " 'kag2020',\n",
              " 'karen',\n",
              " 'karma',\n",
              " 'keepcalm',\n",
              " 'keepsafe',\n",
              " 'keepyourdistance',\n",
              " 'kenya',\n",
              " 'keyworker',\n",
              " 'keyworkers',\n",
              " 'kids',\n",
              " 'kindness',\n",
              " 'kroger',\n",
              " 'ksa',\n",
              " 'kungflu',\n",
              " 'kuwait',\n",
              " 'lagos',\n",
              " 'lagov',\n",
              " 'lalege',\n",
              " 'lasvegas',\n",
              " 'laugh',\n",
              " 'law',\n",
              " 'leadership',\n",
              " 'lidl',\n",
              " 'life',\n",
              " 'live',\n",
              " 'lka',\n",
              " 'lng',\n",
              " 'loblaws',\n",
              " 'local',\n",
              " 'localbusiness',\n",
              " 'lockdown',\n",
              " 'lockdown2',\n",
              " 'lockdown21',\n",
              " 'lockdownaustralia',\n",
              " 'lockdowneffect',\n",
              " 'lockdownextended',\n",
              " 'lockdownextension',\n",
              " 'lockdownextention',\n",
              " 'lockdownlondon',\n",
              " 'lockdownnow',\n",
              " 'lockdownnz',\n",
              " 'lockdowns',\n",
              " 'lockdownsa',\n",
              " 'lockdownsouthafrica',\n",
              " 'lockdownuk',\n",
              " 'lockdownuknow',\n",
              " 'logistics',\n",
              " 'lol',\n",
              " 'london',\n",
              " 'londonlockdown',\n",
              " 'looroll',\n",
              " 'losangeles',\n",
              " 'love',\n",
              " 'luxembourg',\n",
              " 'luxury',\n",
              " 'lysol',\n",
              " 'machinelearning',\n",
              " 'madmax',\n",
              " 'maga',\n",
              " 'maga2020',\n",
              " 'maine',\n",
              " 'malaysia',\n",
              " 'malaysialockdown',\n",
              " 'management',\n",
              " 'manufacturers',\n",
              " 'manufacturing',\n",
              " 'mapoli',\n",
              " 'march',\n",
              " 'market',\n",
              " 'marketcrash',\n",
              " 'marketers',\n",
              " 'marketing',\n",
              " 'marketingstrategy',\n",
              " 'marketresearch',\n",
              " 'markets',\n",
              " 'maryland',\n",
              " 'mask',\n",
              " 'masks',\n",
              " 'masks4all',\n",
              " 'maskshortage',\n",
              " 'maskup',\n",
              " 'massachusetts',\n",
              " 'mckinsey',\n",
              " 'mco',\n",
              " 'meat',\n",
              " 'media',\n",
              " 'medical',\n",
              " 'medicare',\n",
              " 'medicine',\n",
              " 'medtwitter',\n",
              " 'meme',\n",
              " 'memes',\n",
              " 'memesdaily',\n",
              " 'mena',\n",
              " 'mentalhealth',\n",
              " 'merkel',\n",
              " 'metals',\n",
              " 'mexico',\n",
              " 'miami',\n",
              " 'michigan',\n",
              " 'military',\n",
              " 'milk',\n",
              " 'millennials',\n",
              " 'mining',\n",
              " 'minnesota',\n",
              " 'mobile',\n",
              " 'mobileappdevelopment',\n",
              " 'momlife',\n",
              " 'monday',\n",
              " 'mondaymood',\n",
              " 'mondaymorning',\n",
              " 'mondaymotivation',\n",
              " 'mondaymotivaton',\n",
              " 'mondaythoughts',\n",
              " 'money',\n",
              " 'montreal',\n",
              " 'morrison',\n",
              " 'morrisons',\n",
              " 'mortgage',\n",
              " 'mortgages',\n",
              " 'mothersday',\n",
              " 'mothersday2020',\n",
              " 'movementcontrolorder',\n",
              " 'movies',\n",
              " 'mrx',\n",
              " 'msnbc',\n",
              " 'mumbai',\n",
              " 'music',\n",
              " 'mypandemicsurvivalplan',\n",
              " 'n95',\n",
              " 'n95mask',\n",
              " 'n95masks',\n",
              " 'nameandshame',\n",
              " 'narendramodi',\n",
              " 'nasdaq',\n",
              " 'national',\n",
              " 'naturalgas',\n",
              " 'nature',\n",
              " 'nba',\n",
              " 'netflix',\n",
              " 'new',\n",
              " 'newjersey',\n",
              " 'newnormal',\n",
              " 'neworleans',\n",
              " 'news',\n",
              " 'newsalert',\n",
              " 'newsnight',\n",
              " 'newspicks',\n",
              " 'newworldorder',\n",
              " 'newyork',\n",
              " 'newyorkcity',\n",
              " 'newzealand',\n",
              " 'nfl',\n",
              " 'nhs',\n",
              " 'nhscovidheroes',\n",
              " 'nhsheroes',\n",
              " 'nhsstaff',\n",
              " 'nhsthankyou',\n",
              " 'nhsworkers',\n",
              " 'nigeria',\n",
              " 'nj',\n",
              " 'nofood',\n",
              " 'notdying4wallstreet',\n",
              " 'notoiletpaper',\n",
              " 'nstnation',\n",
              " 'nurse',\n",
              " 'nurses',\n",
              " 'nutrition',\n",
              " 'ny',\n",
              " 'nyc',\n",
              " 'nyclockdown',\n",
              " 'nyse',\n",
              " 'nz',\n",
              " 'ocado',\n",
              " 'offer',\n",
              " 'ohio',\n",
              " 'oil',\n",
              " 'oilandgas',\n",
              " 'oilprice',\n",
              " 'oilprices',\n",
              " 'oilpricewar',\n",
              " 'oman',\n",
              " 'online',\n",
              " 'onlinebusiness',\n",
              " 'onlineclasses',\n",
              " 'onlinegrocery',\n",
              " 'onlinemarketing',\n",
              " 'onlineshop',\n",
              " 'onlineshopping',\n",
              " 'onpoli',\n",
              " 'ontario',\n",
              " 'oott',\n",
              " 'opec',\n",
              " 'opinion',\n",
              " 'ordernow',\n",
              " 'ottawa',\n",
              " 'outbreak',\n",
              " 'packaging',\n",
              " 'pakistan',\n",
              " 'palmsunday',\n",
              " 'pandemia',\n",
              " 'pandemic',\n",
              " 'pandemic2020',\n",
              " 'panic',\n",
              " 'panicbuy',\n",
              " 'panicbuyers',\n",
              " 'panicbuying',\n",
              " 'panicbuyinguk',\n",
              " 'panickbuying',\n",
              " 'panickbuyinguk',\n",
              " 'panicshopping',\n",
              " 'paper',\n",
              " 'papertowels',\n",
              " 'parenting',\n",
              " 'parents',\n",
              " 'passover',\n",
              " 'pasta',\n",
              " 'payment',\n",
              " 'payments',\n",
              " 'peace',\n",
              " 'pennsylvania',\n",
              " 'people',\n",
              " 'perfume',\n",
              " 'personalfinance',\n",
              " 'petrochemical',\n",
              " 'petrochemicals',\n",
              " 'petrol',\n",
              " 'petrolprice',\n",
              " 'pets',\n",
              " 'pharma',\n",
              " 'pharmacy',\n",
              " 'philippines',\n",
              " 'phishing',\n",
              " 'photography',\n",
              " 'physicaldistancing',\n",
              " 'pizzerias',\n",
              " 'plastics',\n",
              " 'pmmodi',\n",
              " 'podcast',\n",
              " 'poetry',\n",
              " 'police',\n",
              " 'politics',\n",
              " 'poll',\n",
              " 'poopchallenge',\n",
              " 'pork',\n",
              " 'potus',\n",
              " 'poverty',\n",
              " 'ppe',\n",
              " 'ppeshortage',\n",
              " 'pr',\n",
              " 'pray',\n",
              " 'preparedness',\n",
              " 'prepper',\n",
              " 'prepping',\n",
              " 'president',\n",
              " 'prevention',\n",
              " 'price',\n",
              " 'pricegougers',\n",
              " 'pricegouging',\n",
              " 'prices',\n",
              " 'pricing',\n",
              " 'privacy',\n",
              " 'profiteering',\n",
              " 'profits',\n",
              " ...]"
            ]
          },
          "metadata": {
            "tags": []
          },
          "execution_count": 56
        }
      ]
    },
    {
      "cell_type": "code",
      "metadata": {
        "colab": {
          "base_uri": "https://localhost:8080/"
        },
        "id": "mhJdkbzNsABb",
        "outputId": "26fe9a69-b72b-4f81-fcfc-fb66eb3a806c"
      },
      "source": [
        "top10 = sorted(np.array(X_hastags.sum(axis=0)).flatten())[:-10:-1]\r\n",
        "top10"
      ],
      "execution_count": null,
      "outputs": [
        {
          "output_type": "execute_result",
          "data": {
            "text/plain": [
              "[7264.163981343336,\n",
              " 2530.9099308942573,\n",
              " 2221.3375639616447,\n",
              " 1061.26841933016,\n",
              " 735.575872187661,\n",
              " 581.0929680228544,\n",
              " 477.3201688183322,\n",
              " 260.735358394384,\n",
              " 232.81411900843418]"
            ]
          },
          "metadata": {
            "tags": []
          },
          "execution_count": 55
        }
      ]
    },
    {
      "cell_type": "code",
      "metadata": {
        "colab": {
          "base_uri": "https://localhost:8080/"
        },
        "id": "Ylpvv8ajsCXh",
        "outputId": "9894ca17-d11e-4ada-8544-9a991dc86330"
      },
      "source": [
        "indices = []\r\n",
        "for i,e in enumerate(np.array(X_hastags.toarray().sum(axis=0))):\r\n",
        "  if e in top10:\r\n",
        "    indices.append(i)\r\n",
        "for i in indices:\r\n",
        "  print(features[i])"
      ],
      "execution_count": null,
      "outputs": [
        {
          "output_type": "stream",
          "text": [
            "coronacrisis\n",
            "coronavirus\n",
            "covid\n",
            "covid19\n",
            "covid2019\n",
            "pandemic\n",
            "socialdistancing\n",
            "stayhomesavelives\n",
            "toiletpaper\n"
          ],
          "name": "stdout"
        }
      ]
    },
    {
      "cell_type": "markdown",
      "metadata": {
        "id": "05zUaIudwnpO"
      },
      "source": [
        "Above hashtags are the top 10 hashtags which are used frquently in tweets."
      ]
    },
    {
      "cell_type": "code",
      "metadata": {
        "id": "V-q7cXjcsNi1"
      },
      "source": [
        "df['Filled Location'] = df['Location'].fillna('Null')"
      ],
      "execution_count": null,
      "outputs": []
    },
    {
      "cell_type": "code",
      "metadata": {
        "colab": {
          "base_uri": "https://localhost:8080/",
          "height": 350
        },
        "id": "JVhZAw69sRDg",
        "outputId": "7d89eb67-d27e-46c4-c45a-75e0e0b9e1b4"
      },
      "source": [
        "sns.countplot(df[df['Filled Location']=='Null']['Sentiment'])"
      ],
      "execution_count": null,
      "outputs": [
        {
          "output_type": "stream",
          "text": [
            "/usr/local/lib/python3.6/dist-packages/seaborn/_decorators.py:43: FutureWarning: Pass the following variable as a keyword arg: x. From version 0.12, the only valid positional argument will be `data`, and passing other arguments without an explicit keyword will result in an error or misinterpretation.\n",
            "  FutureWarning\n"
          ],
          "name": "stderr"
        },
        {
          "output_type": "execute_result",
          "data": {
            "text/plain": [
              "<matplotlib.axes._subplots.AxesSubplot at 0x7fee2351b048>"
            ]
          },
          "metadata": {
            "tags": []
          },
          "execution_count": 60
        },
        {
          "output_type": "display_data",
          "data": {
            "image/png": "[encoded data removed]",
            "text/plain": [
              "<Figure size 432x288 with 1 Axes>"
            ]
          },
          "metadata": {
            "tags": [],
            "needs_background": "light"
          }
        }
      ]
    },
    {
      "cell_type": "code",
      "metadata": {
        "id": "AvW2xJ81sYxt"
      },
      "source": [
        ""
      ],
      "execution_count": null,
      "outputs": []
    }
  ]
}